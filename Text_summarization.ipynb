{
  "cells": [
    {
      "cell_type": "code",
      "execution_count": null,
      "metadata": {
        "id": "drIgyi2d9OCd"
      },
      "outputs": [],
      "source": [
        "import pandas as pd\n"
      ]
    },
    {
      "cell_type": "code",
      "execution_count": null,
      "metadata": {
        "colab": {
          "base_uri": "https://localhost:8080/"
        },
        "id": "qw8se9Zo9--s",
        "outputId": "f38be160-222e-44b5-cf87-5660ba6da691"
      },
      "outputs": [
        {
          "name": "stdout",
          "output_type": "stream",
          "text": [
            "Drive already mounted at /content/drive; to attempt to forcibly remount, call drive.mount(\"/content/drive\", force_remount=True).\n"
          ]
        }
      ],
      "source": [
        "from google.colab import drive\n",
        "drive.mount('/content/drive')\n"
      ]
    },
    {
      "cell_type": "code",
      "execution_count": null,
      "metadata": {
        "id": "zy_NtRnl-CpN"
      },
      "outputs": [],
      "source": [
        "import chardet\n",
        "\n",
        "csv_path = '/content/drive/MyDrive/NLP/small.csv'\n",
        "\n",
        "with open(csv_path, 'rb') as f:\n",
        "    result = chardet.detect(f.read())\n",
        "encoding = result['encoding']\n",
        "\n",
        "df = pd.read_csv(csv_path, encoding=encoding)"
      ]
    },
    {
      "cell_type": "code",
      "execution_count": null,
      "metadata": {
        "id": "jAwURtYg-EfB"
      },
      "outputs": [],
      "source": [
        "abstract_df = df['abstract']\n"
      ]
    },
    {
      "cell_type": "code",
      "execution_count": null,
      "metadata": {
        "id": "fw-Nl82Y-TYi"
      },
      "outputs": [],
      "source": [
        "import pandas as pd\n",
        "import nltk\n",
        "from nltk.corpus import stopwords\n",
        "import string\n"
      ]
    },
    {
      "cell_type": "code",
      "execution_count": null,
      "metadata": {
        "colab": {
          "base_uri": "https://localhost:8080/"
        },
        "id": "ntW4zooQ-VHB",
        "outputId": "b7448c2e-f376-4fbd-f90d-04dcdd4876df"
      },
      "outputs": [
        {
          "name": "stderr",
          "output_type": "stream",
          "text": [
            "[nltk_data] Downloading package stopwords to /root/nltk_data...\n",
            "[nltk_data]   Package stopwords is already up-to-date!\n"
          ]
        },
        {
          "data": {
            "text/plain": [
              "True"
            ]
          },
          "execution_count": 45,
          "metadata": {},
          "output_type": "execute_result"
        }
      ],
      "source": [
        "nltk.download('stopwords')\n"
      ]
    },
    {
      "cell_type": "code",
      "execution_count": null,
      "metadata": {
        "colab": {
          "base_uri": "https://localhost:8080/"
        },
        "id": "29_6tJb_B7qC",
        "outputId": "8431939b-90cf-43c5-9211-1b1225a76451"
      },
      "outputs": [
        {
          "name": "stderr",
          "output_type": "stream",
          "text": [
            "[nltk_data] Downloading package punkt to /root/nltk_data...\n",
            "[nltk_data]   Package punkt is already up-to-date!\n"
          ]
        },
        {
          "data": {
            "text/plain": [
              "True"
            ]
          },
          "execution_count": 46,
          "metadata": {},
          "output_type": "execute_result"
        }
      ],
      "source": [
        "import nltk\n",
        "nltk.download('punkt')"
      ]
    },
    {
      "cell_type": "code",
      "execution_count": null,
      "metadata": {
        "id": "3RdPbFaf-Xf6"
      },
      "outputs": [],
      "source": [
        "def preprocess_text(text):\n",
        "    text = text.lower()    #convert text to lowercase\n",
        "\n",
        "    \n",
        "    text = text.translate(str.maketrans('', '', string.punctuation))\n",
        "    \n",
        "    text = ''.join(char for char in text if not char.isdigit())    #remove special characters\n",
        "\n",
        "    \n",
        "    tokens = nltk.word_tokenize(text)    #tokenize the text\n",
        "\n",
        "    \n",
        "    stopwords_set = set(stopwords.words('english'))    #remove stopwords\n",
        "    filtered_tokens = [token for token in tokens if token not in stopwords_set]\n",
        "    \n",
        "    preprocessed_text = ' '.join(filtered_tokens)    #join the tokens back to string\n",
        "\n",
        "    \n",
        "    return preprocessed_text\n"
      ]
    },
    {
      "cell_type": "code",
      "execution_count": null,
      "metadata": {
        "id": "qGstZMM2-Y50"
      },
      "outputs": [],
      "source": [
        "df['Preprocessed Abstract'] = df['abstract'].apply(preprocess_text)\n"
      ]
    },
    {
      "cell_type": "code",
      "execution_count": null,
      "metadata": {
        "colab": {
          "base_uri": "https://localhost:8080/"
        },
        "id": "OKpViiFLhjgn",
        "outputId": "4dece1c6-4c60-4a99-c9cb-c735bde608d2"
      },
      "outputs": [
        {
          "name": "stdout",
          "output_type": "stream",
          "text": [
            "Sentence 1 Tokens: ['study', 'two', 'dairy', 'compost', 'heaps', 'one', 'vegetable', 'scrap', 'compost', 'heap', 'constructed', 'two', 'research', 'farms', 'clemson', 'sc', 'samples', 'taken', 'fr', 'om', 'ach', 'heap', 'different', 'locations', 'elected', 'intervals', 'analyzed', 'enterococ', 'ci', 'vre', 'counts', 'spread', 'plating', 'bile', 'esculin', 'agar', 'bea', 'bea', 'containing', '¬gml', 'vancomycin', 'respectively', 'initial', 'populations', 'enterococci', 'vre', 'compost', 'range', 'log', 'cfug', 'respectively', 'days', 'active', 'composting', 'average', 'vre', 'populations', 'declined', 'ca', 'logs', 'top', 'center', 'bottom', 'surface', 'locations', 'heaps', 'respectively', 'whereas', 'enterococci', 'populations', 'declined', 'logs', 'respectively', 'two', 'dairy', 'compost', 'trials', 'temperatures', 'top', 'center', 'bottom', 'locations', 'excess', 'øc', 'ƒ', 'days', 'respectively', 'whereas', 'temperatures', 'surface', 'samples', 'never', 'exceeded', 'øc', 'thermophilic', 'composting', 'microbial', 'activity', 'slightly', 'reduced', 'ph', 'began', 'rise', 'slightly', 'due', 'production', 'ammonia', 'moisture', 'content', 'inside', 'heaps', 'changed', 'little', 'active', 'composting', 'trials']\n",
            "Sentence 2 Tokens: ['describe', 'geometric', 'noncommutative', 'formal', 'groups', 'terms', 'geometric', 'commutative', 'formal', 'group', 'poisson', 'structure', 'splay', 'algebra', 'describe', 'certain', 'natural', 'properties', 'poisson', 'structures', 'show', 'poisson', 'structure', 'gives', 'rise', 'noncommutative', 'formal', 'group', 'describe', 'geometric', 'noncommutative', 'formal', 'groups', 'terms', 'geometric', 'commutative', 'formal', 'group', 'poisson', 'structure', 'splay', 'algebra', 'describe', 'certain', 'natural', 'properties', 'poisson', 'structures', 'show', 'poisson', 'structure', 'gives', 'rise', 'noncommutative', 'formal', 'group', 'characterizing', 'noncommutative', 'formal', 'groups', 'g', 'natural', 'consider', 'distribution', 'algebras', 'distg', 'although', 'interested', 'mainly', 'characteristic', 'p', 'setting', 'make', 'effort', 'work', 'analogy', 'characteristic', 'zero', 'version', 'problem', 'let', 'g', 'formal', 'group', 'lie', 'algebra', 'g', 'recall', 'characteristic', 'zero', 'canonical', 'isomorphism', 'distg', 'universal', 'enveloping', 'algebra', 'ug', 'problem', 'reduces', 'describing', 'algebraic', 'relationship', 'symmetric', 'sg', 'ug', 'tensor', 'algebra', 'tg', 'following', 'diagram', 'tg', 'sg', 'ƒ¬', 'ƒ', 'pbw', 'ug', 'diagonal', 'arrows', 'algebra', 'maps', 'horizontal', 'arrow', 'vector', 'space', 'isomorphism', 'given', 'poincarbirkhoffwitt', 'pbw', 'theorem', 'positive', 'characteristic', 'setting', 'features', 'present', 'difficulties', 'absent', 'zero', 'characteristic', 'setting', 'sense', 'made', 'precise', 'problem', 'nonlinear', 'unlike', 'zero', 'characteristic', 'setting', 'algebras', 'importance', 'quadratic', 'let', 'us', 'recall', 'characteristic', 'zero', 'pbw', 'theorem', 'gives', 'identification', 'sg', 'associated', 'graded', 'algebra', 'ug', 'may', 'regard', 'sg', 'universal', 'enveloping', 'algebra', 'trivial', 'lie', 'algebra', 'structure', 'g']\n",
            "Sentence 3 Tokens: ['numerical', 'solution', 'partial', 'differential', 'equations', 'pdes', 'highquality', 'meshes', 'crucial', 'stability', 'accuracy', 'convergence', 'associated', 'pde', 'solver', 'mesh', 'quality', 'improvement', 'often', 'performed', 'improve', 'quality', 'meshes', 'use', 'numerical', 'solution', 'pde', 'mesh', 'smoothing', 'performed', 'via', 'optimization', 'one', 'popular', 'technique', 'improving', 'mesh', 'quality', 'making', 'adjustments', 'vertex', 'locations', 'inefficient', 'mesh', 'quality', 'metric', 'used', 'design', 'optimization', 'problem', 'hence', 'also', 'measure', 'mesh', 'quality', 'within', 'optimization', 'procedure', 'convergence', 'optimization', 'method', 'much', 'slower', 'desired', 'however', 'many', 'applications', 'choice', 'mesh', 'quality', 'metric', 'optimization', 'problem', 'considered', 'fixed', 'paper', 'propose', 'simple', 'mesh', 'quality', 'metric', 'alternation', 'scheme', 'use', 'mesh', 'optimization', 'process', 'idea', 'alternate', 'use', 'original', 'inefficient', 'mesh', 'quality', 'metric', 'efficient', 'mesh', 'quality', 'metric', 'alternate', 'iterations', 'mesh', 'optimization', 'procedure', 'order', 'reduce', 'time', 'convergence', 'solving', 'original', 'mesh', 'quality', 'improvement', 'problem', 'typical', 'results', 'using', 'application', 'scheme', 'solve', 'mesh', 'quality', 'improvement', 'problems', 'yield', 'approximately', 'improvement', 'comparison', 'original', 'mesh', 'optimization', 'procedure', 'frequent', 'use', 'efficient', 'metric', 'results', 'greater', 'speedups']\n",
            "Sentence 4 Tokens: ['qualitative', 'case', 'study', 'hardly', 'research', 'technique', 'proper', 'sense', 'typical', 'qualitative', 'research', 'employ', 'usage', 'research', 'design', 'hence', 'merits', 'discussion', 'paper', 'considers', 'methodological', 'issues', 'collecting', 'qualitative', 'data', 'distance', 'learners', 'universiti', 'utara', 'malaysia', 'uum', 'paper', 'begins', 'overview', 'study', 'describing', 'case', 'study', 'range', 'methods', 'used', 'examines', 'merits', 'limitations', 'research', 'methods', 'specifically', 'paper', 'discusses', 'two', 'methodological', 'issues', 'qualitative', 'case', 'study', 'generalisation', 'research', 'findings', 'integrity', 'research', 'reports', 'concluding', 'remarks', 'made', 'appropriateness', 'effectiveness', 'method', 'used', 'discussion', 'paper', 'attempt', 'highlight', 'plausible', 'major', 'issues', 'researchers', 'may', 'encounter', 'qualitative', 'convention', 'adopted', 'malaysian', 'educational', 'research', 'setting']\n",
            "Sentence 5 Tokens: ['resumen', 'en', 'la', 'actualidad', 'est\\xadn', 'apareciendo', 'un', 'gran', 'n§mero', 'de', 'herramientas', 'que', 'proporcionan', 'soporte', 'para', 'transformar', 'modelos', 'obstante', 'hasta', 'el', 'momento', 'existe', 'ninguna', 'que', 'haya', 'tenido', 'en', 'consideracin', 'el', 'lenguaje', 'est\\xadndar', 'qvt', 'relations', 'en', 'este', 'artculo', 'se', 'presenta', 'la', 'arquitectura', 'de', 'un', 'motor', 'de', 'transformacin', 'de', 'modelos', 'que', 'proporciona', 'soporte', 'para', 'este', 'lenguaje', 'est\\xadndar', 'dentro', 'del', 'framework', 'de', 'gestin', 'de', 'modelos', 'moment', 'este', 'motor', 'de', 'transformaciones', 'ha', 'sido', 'definido', 'mediante', 'la', 'utilizacin', 'de', 'mtodos', 'formales', 'como', 'plugin', 'dentro', 'de', 'eclipse', 'haciendo', 'uso', 'de', 'eclipse', 'modeling', 'framework', 'para', 'la', 'manipulacin', 'de', 'modelos']\n",
            "Sentence 6 Tokens: ['theory', 'functional', 'discourse', 'grammar', 'assumes', 'structure', 'linguistic', 'items', 'large', 'extent', 'determined', 'use', 'idea', 'yet', 'fleshed', 'realm', 'phonology', 'phonetics', 'present', 'paper', 'aims', 'address', 'void', 'argues', 'fdg', 'extended', 'fifth', 'level', 'representation', 'namely', 'phonetic', 'level', 'addition', 'model', 'capture', 'interaction', 'two', 'competing', 'functional', 'pressures', 'maximization', 'perceptual', 'distinctiveness', 'minimization', 'articulatory', 'effort']\n",
            "Sentence 7 Tokens: ['software', 'maintenance', 'reuse', 'require', 'identification', 'applied', 'software', 'licenses', 'information', 'needs', 'maintainers', 'reusers', 'supported', 'reverse', 'engineering', 'tools', 'different', 'information', 'retrieval', 'levels', 'paper', 'presents', 'reverse', 'engineering', 'approach', 'called', 'asla', 'retrieving', 'license', 'information', 'typically', 'used', 'oss', 'user', 'needs', 'system', 'architecture', 'tool', 'features', 'tool', 'evaluation', 'presented', 'implemented', 'tool', 'features', 'include', 'support', 'identifying', 'source', 'file', 'dependencies', 'licenses', 'source', 'files', 'tool', 'evaluated', 'another', 'tool', 'license', 'information', 'extraction', 'asla', 'supports', 'programming', 'languages', 'gcc', 'license', 'identification', 'coverage', 'good', 'tool', 'extendable']\n",
            "Sentence 8 Tokens: ['article', 'provides', 'principles', 'practice', 'interference', 'cancellation', 'implemented', 'evdo', 'rev', 'reverse', 'link', 'shown', 'applying', 'interference', 'cancellation', 'cdma', 'achieves', 'multiple', 'access', 'channel', 'sum', 'rate', 'capacity', 'either', 'frame', 'synchronous', 'asynchronous', 'users', 'per', 'user', 'sinr', 'gain', 'spacetime', 'interference', 'cancellation', 'translates', 'directly', 'cdma', 'capacity', 'gain', 'factor', 'allowing', 'evdo', 'rev', 'support', 'users', 'higher', 'data', 'rates', 'demonstrate', 'interference', 'cancellation', 'added', 'base', 'station', 'processing', 'without', 'modifying', 'user', 'terminals', 'evdo', 'standards', 'network', 'coverage', 'present', 'commercially', 'viable', 'receiver', 'architectures', 'implementing', 'interference', 'cancellation', 'asynchronism', 'harq', 'evdo', 'reva', 'explain', 'closed', 'loop', 'power', 'control', 'operate', 'way', 'today', 'network', 'level', 'simulations', 'wide', 'range', 'channels', 'confirm', 'interference', 'cancellation', 'offers', 'significant', 'capacity', 'gains', 'users', 'maintaining', 'link', 'budget', 'system', 'stability']\n",
            "Sentence 9 Tokens: ['many', 'optimization', 'techniques', 'invented', 'reduce', 'noise', 'inherent', 'monte', 'carlo', 'radiative', 'transfer', 'simulations', 'typical', 'detectors', 'used', 'monte', 'carlo', 'simulations', 'take', 'account', 'information', 'contained', 'impacting', 'photon', 'packages', 'still', 'room', 'optimize', 'detection', 'process', 'corresponding', 'estimate', 'surface', 'brightness', 'distributions', 'want', 'investigate', 'information', 'contained', 'distribution', 'impacting', 'photon', 'packages', 'optimally', 'used', 'decrease', 'noise', 'surface', 'brightness', 'distributions', 'hence', 'increase', 'efficiency', 'monte', 'carlo', 'radiative', 'transfer', 'simulations', 'demonstrate', 'estimate', 'surface', 'brightness', 'distribution', 'monte', 'carlo', 'radiative', 'transfer', 'simulation', 'similar', 'estimate', 'density', 'distribution', 'sph', 'simulation', 'based', 'similarity', 'recipe', 'constructed', 'smart', 'detectors', 'take', 'full', 'advantage', 'exact', 'location', 'impact', 'photon', 'packages', 'several', 'types', 'smart', 'detectors', 'corresponding', 'different', 'smoothing', 'kernel', 'presented', 'show', 'smart', 'detectors', 'preserving', 'effective', 'resolution', 'reduce', 'noise', 'surface', 'brightness', 'distributions', 'compared', 'classical', 'detectors', 'efficient', 'smart', 'detector', 'realizes', 'noise', 'reduction', 'corresponds', 'reduction', 'required', 'number', 'photon', 'packages', 'ie', 'reduction', 'simulation', 'run', 'time', 'practical', 'implementation', 'smart', 'detectors', 'straightforward', 'additional', 'computational', 'cost', 'completely', 'negligible', 'recommend', 'use', 'smart', 'detectors', 'monte', 'carlo', 'radiative', 'transfer', 'simulations']\n",
            "Sentence 10 Tokens: ['introduction', 'problems', 'faced', 'cartilage', 'grafts', 'resorption', 'malposition', 'palpability', 'distortion', 'led', 'many', 'surgeons', 'shift', 'cartilage', 'flaps', 'instead', 'free', 'grafting', 'especially', 'difficult', 'changeling', 'rhinoplasty', 'middleeastern', 'patients', 'patients', 'methods', 'prospective', 'study', 'involving', 'patients', 'underwent', 'rhinoplasty', 'use', 'insitu', 'spreader', 'alar', 'cartilage', 'flaps', 'evaluation', 'done', 'subjectively', 'objectively', 'results', 'patients', 'except', 'four', 'showed', 'significant', 'improvement', 'mean', 'subjective', 'breathing', 'quality', 'surgery', 'together', 'excellent', 'aesthetic', 'outcome', 'patients', 'five', 'patients', 'rated', 'result', 'good', 'two', 'patients', 'rated', 'procedure', 'poor', 'conclusion', 'spreader', 'flap', 'made', 'upper', 'lateral', 'cartilages', 'perfect', 'alternative', 'spreader', 'grafts', 'middleeastern', 'patients', 'alar', 'cartilage', 'flaps', 'mandatory', 'rhinoplasty']\n",
            "Sentence 11 Tokens: ['recent', 'paper', 'l', 'bokut', 'v', 'v', 'chaynikov', 'k', 'p', 'shum', 'braid', 'group', 'bn', 'represented', 'artinburauƒs', 'relations', 'representation', 'told', 'compositions', 'checked', 'way', 'note', 'support', 'claim', 'check', 'compositions']\n",
            "Sentence 12 Tokens: ['threat', 'soft', 'error', 'induced', 'system', 'failure', 'computing', 'systems', 'become', 'prominent', 'adopt', 'ultradeep', 'submicron', 'process', 'technologies', 'paper', 'propose', 'two', 'efficient', 'soft', 'error', 'mitigation', 'schemes', 'namely', 'soft', 'error', 'mitigation', 'sem', 'soft', 'timing', 'error', 'mitigation', 'stem', 'using', 'approach', 'multiple', 'clocking', 'data', 'protecting', 'combinational', 'logic', 'blocks', 'soft', 'errors', 'first', 'technique', 'sem', 'based', 'distributed', 'temporal', 'voting', 'three', 'registers', 'unloads', 'soft', 'error', 'detection', 'overhead', 'critical', 'path', 'systems', 'sem', 'also', 'capable', 'ignoring', 'false', 'errors', 'recovers', 'soft', 'errors', 'using', 'insitu', 'fast', 'recovery', 'avoiding', 'recomputation', 'second', 'technique', 'stem', 'tolerating', 'soft', 'errors', 'adds', 'timing', 'error', 'detection', 'capability', 'guarantee', 'reliable', 'execution', 'aggressively', 'clocked', 'designs', 'enhance', 'system', 'performance', 'operating', 'beyond', 'worstcase', 'clock', 'frequency', 'also', 'present', 'specialized', 'low', 'overhead', 'clock', 'phase', 'management', 'scheme', 'ably', 'supports', 'proposed', 'techniques', 'timingannotated', 'gatelevel', 'simulations', 'using', 'nm', 'libraries', 'pipelined', 'addermultiplier', 'dlx', 'processor', 'show', 'techniques', 'achieve', 'near', 'percent', 'fault', 'coverage', 'dlx', 'processor', 'even', 'severe', 'fault', 'injection', 'campaigns', 'sem', 'achieves', 'average', 'performance', 'improvement', 'percent', 'conventional', 'triple', 'modular', 'redundancy', 'voterbased', 'soft', 'error', 'mitigation', 'scheme', 'stem', 'outperforms', 'sem', 'percent']\n",
            "Sentence 13 Tokens: ['ac', 'transport', 'losses', 'multifilamentary', 'bscco', 'silver', 'sheathed', 'tapes', 'function', 'applied', 'external', 'magnetic', 'field', 'direction', 'respect', 'plane', 'samples', 'reported', 'measurements', 'carried', 'k', 'frequency', 'hz', 'ac', 'transport', 'current', 'values', 'tapes', 'range', 'percent', 'dc', 'critical', 'current', 'values', 'kept', 'constant', 'rotating', 'external', 'magnetic', 'field', 'also', 'similar', 'way', 'dc', 'critical', 'current', 'angular', 'characteristics', 'measured', 'transport', 'losses', 'function', 'angle', 'magnetic', 'field', 'scale', 'using', 'analogous', 'dc', 'critical', 'current', 'relations', 'obtained', 'results', 'compared', 'theoretical', 'models', 'selffield', 'losses']\n",
            "Sentence 14 Tokens: ['mg', 'classic', 'queueing', 'system', 'extended', 'many', 'authors', 'last', 'two', 'decades', 'systems', 'serverƒs', 'vacation', 'important', 'models', 'extend', 'mg', 'queueing', 'system', 'also', 'another', 'conditions', 'admissibility', 'restricted', 'may', 'occure', 'systems', 'motivation', 'system', 'consider', 'single', 'server', 'queue', 'batch', 'arrival', 'poisson', 'input', 'restricted', 'admissibility', 'arriving', 'batches', 'batches', 'allowed', 'join', 'system', 'times', 'service', 'completion', 'epoch', 'server', 'may', 'apt', 'take', 'vacation', 'probability', 'else', 'probability', 'ƒ', 'may', 'continue', 'available', 'system', 'next', 'service', 'vacation', 'period', 'server', 'two', 'heterogenous', 'phases', 'phase', 'one', 'compulsory', 'phase', 'two', 'follows', 'phase', 'one', 'vacation', 'way', 'server', 'may', 'take', 'phase', 'two', 'probability', 'p', 'may', 'return', 'back', 'system', 'probability', 'ƒ', 'p', 'vacation', 'times', 'assumed', 'general', 'stochastic', 'processes', 'involved', 'system', 'service', 'vacation', 'times', 'independent', 'derive', 'pgfƒs', 'system', 'using', 'informance', 'measures', 'obtained', 'numerical', 'approaches', 'examined', 'validity', 'results']\n",
            "Sentence 15 Tokens: ['edge', 'systems', 'reveal', 'properties', 'disk', 'galaxies', 'function', 'height', 'z', 'plane', 'four', 'local', 'edgeon', 'galaxies', 'close', 'enough', 'resolved', 'stars', 'hubble', 'space', 'telescope', 'show', 'thick', 'disks', 'composed', 'red', 'stellar', 'population', 'old', 'relatively', 'metal', 'rich', 'color', 'gradients', 'ƒviƒz', 'zero', 'slightly', 'positive', 'favored', 'models', 'may', 'explicit', 'thick', 'disk', 'formation', 'phase']\n",
            "Sentence 16 Tokens: ['analysis', 'given', 'model', 'semimetal', 'isotropic', 'electron', 'hole', 'spectra', 'separated', 'momentum', 'space', 'applied', 'magnetic', 'field', 'assumed', 'strong', 'enough', 'ensure', 'one', 'quantum', 'level', 'participates', 'spectrum', 'overlapping', 'levels', 'fermi', 'energy', 'greater', 'binding', 'energy', 'particle', 'pairs', 'weak', 'point', 'interaction', 'assumed', 'operate', 'particles', 'valid', 'fields', 'dielectric', 'constants', 'high', 'sign', 'interaction', 'arbitrary', 'since', 'analysis', 'concerned', 'spinless', 'fermions', 'degeneracy', 'removed', 'field', 'system', 'exhibits', 'interactions', 'electrons', 'holes', 'interaction', 'particles', 'kind', 'shown', 'cooper', 'pairing', 'particles', 'charge', 'absent', 'electronhole', 'excitons', 'formed', 'ie', 'transition', 'dielectric', 'takes', 'place', 'problem', 'leads', 'parquet', 'equations', 'therefore', 'solved', 'logarithmic', 'accuracy', 'general', 'method', 'developed', 'finding', 'anomalous', 'averages', 'corresponding', 'pairing', 'binding', 'energies', 'asymmetric', 'parquet', 'vertices']\n",
            "Sentence 17 Tokens: ['twin', 'soii', 'samples', 'coliected', 'sampling', 'points', 'eight', 'fields', 'survey', 'fields', 'eastern', 'scotland', 'determine', 'spatial', 'distribution', 'virus', 'vector', 'nematodes', 'samples', 'taken', 'cm', 'depth', 'site', 'ten', 'transects', 'apart', 'distances', 'samples', 'cm', 'virus', 'detected', 'baittesting', 'fieldsoii', 'cm', 'dia', 'cm', 'plastic', 'pots', 'planted', 'petunia', 'hybrida', 'cucumis', 'sativus', 'seedlings', 'four', 'weeks', 'symptoms', 'indicator', 'plants', 'electron', 'microscopy', 'alkaline', 'phosphatase', 'version', 'f', 'ab', 'elisa', 'used', 'virus', 'identification', 'viruses', 'recovered', 'seven', 'sites', 'combinations', 'two', 'viruses', 'occurting', 'four', 'sites', 'raspberry', 'ringspot', 'arabis', 'mosaic', 'amv', 'raspberry', 'tingspot', 'tornato', 'black', 'ring', 'tornato', 'black', 'ting', 'tabacco', 'rattle', 'trv', 'al', 'two', 'sites', 'trv', 'alone', 'three', 'sites', 'amv', 'recovered', 'samples', 'containing', 'vector', 'xiphinema', 'diversicaudatum', 'whereas', 'ali', 'virus', 'vector', 'combinations', 'virus', 'always', 'recovered', 'samples', 'containing', 'vector', 'nematodes', 'also', 'numbers', 'vector', 'nematodes', 'samples', 'dici', 'influente', 'recovery', 'virus', 'disttibutions', 'viruses', 'highly', 'aggregated', 'analysis', 'possible', 'pairs', 'samples', 'classified', 'distances', 'apart', 'revealed', 'high', 'probabiiity', 'recovery', 'virus', 'pairs', 'samples', 'apart', 'sampling', 'detecting', 'nepoviruses', 'tobraviruses', 'therefore', 'based', 'regular', 'gtid', 'lattice', 'sampling', 'points']\n",
            "Sentence 18 Tokens: ['nous', 'tudions', 'un', 'modle', 'de', 'communication', 'ÿ', 'plusieurs', 'joueurs', 'les', 'joueurs', 'correspondent', 'aux', 'noeuds', 'dƒun', 'rseau', 'chaque', 'joueur', 'connažñt', 'la', 'taille', 'du', 'rseau', 'son', 'identifiant', 'ainsi', 'que', 'ceux', 'de', 'ses', 'voisins', 'les', 'joueurs', 'envoient', 'simultanment', 'un', 'unique', 'message', 'ÿ', 'un', 'arbitre', 'qui', 'doit', 'dcider', 'une', 'proprit', 'du', 'graphe', 'lƒobjectif', 'de', 'lƒarticle', 'est', 'de', 'sparer', 'du', 'point', 'de', 'vue', 'de', 'la', 'complexit', 'de', 'communication', 'la', 'taille', 'des', 'messages', 'trois', 'situations', 'diffrentes', 'les', 'protocoles', 'dterministes', 'les', 'protocoles', 'probabilistes', 'avec', 'des', 'bits', 'alatoires', 'publics', 'et', 'les', 'protocoles', 'probabilistes', 'avec', 'uniquement', 'des', 'bits', 'alatoires', 'privs', 'pour', 'ce', 'faire', 'nous', 'travaillons', 'autour', 'de', 'la', 'fonction', 'boolenne', 'jumeaux', 'dont', 'le', 'rsultat', 'est', 'vrai', 'si', 'le', 'graphe', 'possde', 'deux', 'sommets', 'ayant', 'le', 'm¦me', 'voisinage', 'et', 'f', 'aux', 'sinon']\n",
            "Sentence 19 Tokens: ['accurate', 'transport', 'ion', 'macroscopic', 'distances', 'represents', 'challenging', 'control', 'problem', 'due', 'different', 'length', 'time', 'scales', 'enter', 'experimental', 'limitations', 'controls', 'need', 'accounted', 'investigate', 'performance', 'different', 'control', 'techniques', 'ion', 'transport', 'stateoftheart', 'segmented', 'miniaturized', 'ion', 'traps', 'employ', 'numerical', 'optimization', 'classical', 'trajectories', 'quantum', 'wavepacket', 'propagation', 'well', 'analytical', 'solutions', 'derived', 'invariant', 'based', 'inverse', 'engineering', 'geometric', 'optimal', 'control', 'applicability', 'control', 'methods', 'depends', 'length', 'time', 'scales', 'transport', 'comprehensive', 'set', 'tools', 'allows', 'us', 'make', 'number', 'observations', 'find', 'accurate', 'shuttling', 'performed', 'operation', 'times', 'trap', 'oscillation', 'period', 'maximum', 'speed', 'limited', 'maximum', 'acceleration', 'exerted', 'ion', 'using', 'controls', 'obtained', 'classical', 'dynamics', 'wavepacket', 'propagation', 'wavepacket', 'squeezing', 'quantum', 'effect', 'comes', 'play', 'large', 'range', 'trapping', 'parameters', 'show', 'corrected', 'compensating', 'force', 'derived', 'invariant', 'based', 'inverse', 'engineering', 'without', 'significant', 'increase', 'operation', 'time', 'content', 'work', 'may', 'used', 'terms', 'creative', 'commons', 'attribution', 'licence', 'distribution', 'work', 'must', 'maintain', 'attribution', 'authors', 'title', 'work', 'journal', 'citation', 'doi', 'new', 'journal', 'physics', 'iop', 'publishing', 'ltd', 'deutsche', 'physikalische', 'gesellschaft']\n"
          ]
        }
      ],
      "source": [
        "import nltk\n",
        "from nltk.tokenize import word_tokenize\n",
        "\n",
        "df['Preprocessed Tokens'] = df['Preprocessed Abstract'].apply(word_tokenize)\n",
        "for index, row in df.iterrows():\n",
        "    print(f\"Sentence {index+1} Tokens: {row['Preprocessed Tokens']}\")\n"
      ]
    },
    {
      "cell_type": "code",
      "execution_count": null,
      "metadata": {
        "colab": {
          "base_uri": "https://localhost:8080/"
        },
        "id": "fssJIgegeVTl",
        "outputId": "70513e0f-1614-42b4-c9ab-8b83b2e26614"
      },
      "outputs": [
        {
          "name": "stderr",
          "output_type": "stream",
          "text": [
            "[nltk_data] Downloading package averaged_perceptron_tagger to\n",
            "[nltk_data]     /root/nltk_data...\n",
            "[nltk_data]   Package averaged_perceptron_tagger is already up-to-\n",
            "[nltk_data]       date!\n",
            "[nltk_data] Downloading package maxent_ne_chunker to\n",
            "[nltk_data]     /root/nltk_data...\n",
            "[nltk_data]   Package maxent_ne_chunker is already up-to-date!\n",
            "[nltk_data] Downloading package words to /root/nltk_data...\n",
            "[nltk_data]   Package words is already up-to-date!\n"
          ]
        },
        {
          "name": "stdout",
          "output_type": "stream",
          "text": [
            "Sentence 1 Extracted Keywords: ['study', 'dairy', 'compost', 'scrap', 'compost', 'research', 'farms', 'sc', 'samples', 'ach', 'locations', 'intervals', 'ci', 'vre', 'counts', 'bile', 'esculin', 'agar', 'bea', 'bea', '¬gml', 'vancomycin', 'populations', 'vre', 'compost', 'range', 'log', 'cfug', 'days', 'populations', 'center', 'bottom', 'surface', 'locations', 'enterococci', 'populations', 'logs', 'dairy', 'compost', 'trials', 'temperatures', 'center', 'locations', 'ƒ', 'days', 'temperatures', 'samples', 'øc', 'activity', 'ph', 'production', 'ammonia', 'moisture', 'content', 'heaps', 'composting', 'trials']\n",
            "Sentence 1 Generated Title: two dairy compost trials temperatures top center bottom locations excess c  days respectively whereas temperatures surface samples never exceeded c thermophilic composting microbial activity slightly reduced ph began rise slightly due production ammonia\n",
            "Sentence 1 Score: 0.35714285714285715\n",
            "Sentence 2 Extracted Keywords: ['describe', 'groups', 'terms', 'group', 'poisson', 'structure', 'splay', 'describe', 'properties', 'structure', 'group', 'groups', 'terms', 'group', 'poisson', 'structure', 'splay', 'describe', 'properties', 'structure', 'group', 'groups', 'consider', 'distribution', 'algebras', 'p', 'effort', 'work', 'version', 'problem', 'let', 'group', 'g', 'recall', 'isomorphism', 'distg', 'algebra', 'ug', 'problem', 'relationship', 'sg', 'ug', 'tensor', 'tg', 'diagram', 'tg', 'ƒ', 'pbw', 'arrows', 'maps', 'vector', 'space', 'isomorphism', 'pbw', 'theorem', 'setting', 'features', 'difficulties', 'absent', 'sense', 'precise', 'problem', 'importance', 'let', 'zero', 'pbw', 'theorem', 'identification', 'sg', 'ug', 'sg', 'lie', 'algebra', 'structure', 'g']\n",
            "Sentence 2 Generated Title: describe certain natural properties poisson structures show poisson structure gives rise noncommutative formal group characterizing noncommutative formal groups g natural. although interested mainly characteristic p setting make effort work analogy characteristic zero version problem let \n",
            "Sentence 2 Score: 0.3333333333333333\n",
            "Sentence 3 Extracted Keywords: ['solution', 'equations', 'highquality', 'meshes', 'stability', 'accuracy', 'convergence', 'pde', 'solver', 'quality', 'improvement', 'quality', 'meshes', 'solution', 'pde', 'mesh', 'optimization', 'technique', 'quality', 'adjustments', 'locations', 'quality', 'design', 'optimization', 'problem', 'hence', 'measure', 'quality', 'optimization', 'procedure', 'convergence', 'optimization', 'applications', 'choice', 'quality', 'optimization', 'problem', 'paper', 'quality', 'alternation', 'scheme', 'use', 'optimization', 'process', 'idea', 'alternate', 'use', 'inefficient', 'quality', 'efficient', 'quality', 'alternate', 'iterations', 'optimization', 'procedure', 'order', 'time', 'convergence', 'quality', 'improvement', 'problem', 'results', 'scheme', 'solve', 'quality', 'improvement', 'problems', 'improvement', 'comparison', 'optimization', 'procedure', 'use', 'results', 'speedups']\n",
            "Sentence 3 Generated Title: mesh quality improvement often performed improve mesh quality making adjustments vertex locations inefficient mesh quality metric used design optimization problem hence also measure mesh quality within optimization method much slower desired however many applications choice mesh quality metric optimization problem considered fixed paper propose simple\n",
            "Sentence 3 Score: 0.35\n",
            "Sentence 4 Extracted Keywords: ['case', 'study', 'research', 'technique', 'sense', 'research', 'employ', 'usage', 'research', 'design', 'hence', 'merits', 'paper', 'considers', 'issues', 'data', 'distance', 'learners', 'malaysia', 'paper', 'study', 'case', 'study', 'range', 'methods', 'examines', 'merits', 'limitations', 'research', 'methods', 'paper', 'issues', 'case', 'study', 'generalisation', 'research', 'findings', 'integrity', 'research', 'reports', 'remarks', 'effectiveness', 'method', 'discussion', 'paper', 'attempt', 'issues', 'researchers', 'convention', 'research']\n",
            "Sentence 4 Generated Title: qualitative case study hardly research technique proper sense typical qualitative research employ usage research design hence merits discussion paper considers methodological issues collecting qualitative data distance learners universiti utara malaysia uum paper begins overview\n",
            "Sentence 4 Score: 0.5625\n",
            "Sentence 5 Extracted Keywords: ['resumen', 'gran', 'n§mero', 'proporcionan', 'soporte', 'para', 'transformar', 'modelos', 'hasta', 'el', 'momento', 'existe', 'que', 'haya', 'tenido', 'consideracin', 'el', 'lenguaje', 'est\\xadndar', 'qvt', 'relations', 'este', 'artculo', 'presenta', 'motor', 'proporciona', 'soporte', 'para', 'este', 'lenguaje', 'est\\xadndar', 'dentro', 'del', 'framework', 'moment', 'este', 'motor', 'transformaciones', 'ha', 'mediante', 'formales', 'dentro', 'framework', 'para']\n",
            "Sentence 5 Generated Title: en la actualidad est­n apareciendo un gran nmero de herramientas que proporcionan soporte para transformar modelos obstante hasta el\n",
            "Sentence 5 Score: 0.2727272727272727\n",
            "Sentence 6 Extracted Keywords: ['discourse', 'grammar', 'structure', 'items', 'extent', 'use', 'idea', 'realm', 'phonology', 'phonetics', 'paper', 'void', 'fdg', 'level', 'representation', 'level', 'addition', 'model', 'capture', 'interaction', 'pressures', 'distinctiveness', 'minimization', 'articulatory', 'effort']\n",
            "Sentence 6 Generated Title: phonetic level addition model capture interaction two competing functional pressures maximization perceptual distinctiveness minimization articulatory effort. paper argues fdg extended fifth level representation namely phonetic level addition model capture interaction two competing\n",
            "Sentence 6 Score: 0.5416666666666666\n",
            "Sentence 7 Extracted Keywords: ['software', 'maintenance', 'reuse', 'identification', 'software', 'information', 'maintainers', 'reusers', 'engineering', 'tools', 'information', 'retrieval', 'levels', 'paper', 'engineering', 'approach', 'information', 'user', 'needs', 'system', 'architecture', 'tool', 'features', 'evaluation', 'tool', 'features', 'support', 'source', 'file', 'dependencies', 'source', 'files', 'tool', 'license', 'information', 'extraction', 'asla', 'languages', 'identification', 'coverage', 'tool']\n",
            "Sentence 7 Generated Title: paper presents reverse engineering approach called asla retrieving license information typically used oss user needs system architecture tool features tool evaluation presented presented tool features include support identifying source file dependencies licenses source files tool evaluated another tool license information extraction\n",
            "Sentence 7 Score: 0.6333333333333333\n",
            "Sentence 8 Extracted Keywords: ['article', 'principles', 'practice', 'interference', 'cancellation', 'reverse', 'interference', 'cancellation', 'cdma', 'access', 'channel', 'sum', 'rate', 'capacity', 'frame', 'users', 'user', 'sinr', 'gain', 'interference', 'cancellation', 'capacity', 'gain', 'factor', 'support', 'users', 'data', 'rates', 'interference', 'cancellation', 'base', 'station', 'processing', 'user', 'terminals', 'standards', 'network', 'coverage', 'receiver', 'architectures', 'interference', 'cancellation', 'asynchronism', 'harq', 'evdo', 'reva', 'explain', 'power', 'control', 'way', 'today', 'network', 'level', 'simulations', 'range', 'channels', 'interference', 'cancellation', 'capacity', 'gains', 'users', 'link', 'budget', 'system', 'stability']\n",
            "Sentence 8 Generated Title: article provides principles practice interference cancellation implemented evdo rev reverse link. article provides principles practice interference cancellation cdma achieves multiple access channel sum rate capacity either frame synchronous asynchronous users per user sinr gain\n",
            "Sentence 8 Score: 0.3958333333333333\n",
            "Sentence 9 Extracted Keywords: ['optimization', 'techniques', 'noise', 'monte', 'carlo', 'transfer', 'simulations', 'detectors', 'monte', 'carlo', 'simulations', 'account', 'information', 'photon', 'packages', 'room', 'detection', 'process', 'estimate', 'surface', 'brightness', 'distributions', 'information', 'distribution', 'photon', 'packages', 'decrease', 'noise', 'surface', 'brightness', 'distributions', 'efficiency', 'carlo', 'transfer', 'simulations', 'estimate', 'surface', 'brightness', 'distribution', 'monte', 'carlo', 'transfer', 'simulation', 'estimate', 'density', 'distribution', 'sph', 'simulation', 'similarity', 'recipe', 'detectors', 'advantage', 'location', 'impact', 'photon', 'types', 'detectors', 'kernel', 'detectors', 'resolution', 'noise', 'surface', 'brightness', 'distributions', 'detectors', 'detector', 'reduction', 'reduction', 'number', 'photon', 'packages', 'reduction', 'simulation', 'time', 'implementation', 'detectors', 'computational', 'cost', 'recommend', 'use', 'detectors', 'carlo', 'transfer', 'simulations']\n",
            "Sentence 9 Generated Title: many optimization techniques invented reduce noise inherent monte carlo radiative transfer simulations typical detectors used smart detectors take full advantage exact location impact photon packages several types smart detectors corresponding different smoothing kernel presented show efficient smart detector\n",
            "Sentence 9 Score: 0.38095238095238093\n",
            "Sentence 10 Extracted Keywords: ['introduction', 'problems', 'grafts', 'resorption', 'malposition', 'palpability', 'distortion', 'surgeons', 'cartilage', 'flaps', 'patients', 'patients', 'methods', 'study', 'patients', 'use', 'insitu', 'spreader', 'cartilage', 'flaps', 'evaluation', 'results', 'patients', 'improvement', 'mean', 'breathing', 'quality', 'surgery', 'outcome', 'patients', 'patients', 'patients', 'conclusion', 'spreader', 'flap', 'cartilages', 'spreader', 'grafts', 'patients', 'cartilage', 'flaps', 'rhinoplasty']\n",
            "Sentence 10 Generated Title: problems faced cartilage grafts resorption malposition palpability distortion led many surgeons shift cartilage flaps instead free grafting especially difficult changeling rhinoplasty middleeastern patients.\n",
            "Sentence 10 Score: 0.39285714285714285\n",
            "Sentence 11 Extracted Keywords: ['paper', 'l', 'bokut', 'v', 'v', 'chaynikov', 'k', 'p', 'shum', 'braid', 'group', 'bn', 'relations', 'representation', 'compositions', 'way', 'note', 'support', 'claim', 'check', 'compositions']\n",
            "Sentence 11 Generated Title: recent paper l bokut v v chaynikov k p shum braid group bn represented artinburaus relations representation told compositions checked way note support claim check compositions\n",
            "Sentence 11 Score: 1.0\n",
            "Sentence 12 Extracted Keywords: ['threat', 'error', 'system', 'failure', 'systems', 'submicron', 'process', 'technologies', 'paper', 'error', 'mitigation', 'error', 'mitigation', 'sem', 'timing', 'error', 'mitigation', 'stem', 'approach', 'data', 'logic', 'blocks', 'errors', 'sem', 'voting', 'registers', 'error', 'detection', 'path', 'systems', 'sem', 'errors', 'recovers', 'errors', 'recovery', 'recomputation', 'technique', 'stem', 'errors', 'error', 'detection', 'capability', 'guarantee', 'execution', 'designs', 'enhance', 'system', 'performance', 'worstcase', 'clock', 'frequency', 'clock', 'phase', 'management', 'scheme', 'supports', 'techniques', 'simulations', 'libraries', 'processor', 'show', 'techniques', 'percent', 'fault', 'coverage', 'dlx', 'processor', 'fault', 'injection', 'campaigns', 'achieves', 'performance', 'improvement', 'percent', 'redundancy', 'error', 'mitigation', 'scheme', 'stem', 'percent']\n",
            "Sentence 12 Generated Title: paper proposes two efficient soft error mitigation schemes namely soft error mitigation stem using approach multiple clocking data protecting combinational logic blocks soft errors first technique sem based distributed temporal voting three registers unloads soft error detection overhead critical\n",
            "Sentence 12 Score: 0.2641509433962264\n",
            "Sentence 13 Extracted Keywords: ['transport', 'losses', 'bscco', 'silver', 'tapes', 'function', 'field', 'direction', 'plane', 'samples', 'measurements', 'frequency', 'hz', 'transport', 'values', 'tapes', 'percent', 'dc', 'values', 'field', 'way', 'characteristics', 'transport', 'losses', 'field', 'scale', 'relations', 'results', 'models', 'losses']\n",
            "Sentence 13 Generated Title: tapes function applied external magnetic field direction respect plane samples reported measurements carried k frequency hz ac transport current values tapes range percent dc critical current values kept constant rotating external magnetic field also similar way dc critical\n",
            "Sentence 13 Score: 0.6363636363636364\n",
            "Sentence 14 Extracted Keywords: ['mg', 'queueing', 'system', 'authors', 'decades', 'systems', 'vacation', 'models', 'system', 'conditions', 'admissibility', 'systems', 'motivation', 'system', 'server', 'queue', 'batch', 'arrival', 'poisson', 'input', 'admissibility', 'batches', 'batches', 'join', 'system', 'times', 'completion', 'server', 'vacation', 'probability', 'probability', 'ƒ', 'system', 'service', 'vacation', 'period', 'phases', 'compulsory', 'phase', 'phase', 'vacation', 'way', 'server', 'phase', 'probability', 'p', 'system', 'probability', 'ƒ', 'p', 'vacation', 'times', 'processes', 'system', 'service', 'vacation', 'times', 'pgfƒs', 'system', 'informance', 'measures', 'approaches', 'validity', 'results']\n",
            "Sentence 14 Generated Title: mg classic queueing system extended many authors last two decades systems servers vacation important models extend mg queueing system also another conditions admissibility restricted may occure systems motivation system consider single server queue batch arrival poisson input restricted admissibility arriving\n",
            "Sentence 14 Score: 0.4594594594594595\n",
            "Sentence 15 Extracted Keywords: ['edge', 'systems', 'properties', 'disk', 'galaxies', 'z', 'plane', 'edgeon', 'galaxies', 'stars', 'space', 'telescope', 'show', 'disks', 'population', 'metal', 'color', 'gradients', 'models', 'disk', 'formation', 'phase']\n",
            "Sentence 15 Generated Title: edge systems reveal properties disk galaxies function height z plane four local edgeon galaxies close enough resolved stars hubble space telescope show thick disks composed red stellar population.\n",
            "Sentence 15 Score: 0.7\n",
            "Sentence 16 Extracted Keywords: ['analysis', 'isotropic', 'electron', 'hole', 'spectra', 'space', 'field', 'level', 'participates', 'levels', 'energy', 'energy', 'particle', 'point', 'interaction', 'particles', 'fields', 'constants', 'sign', 'interaction', 'analysis', 'fermions', 'field', 'system', 'interactions', 'electrons', 'holes', 'particles', 'kind', 'pairing', 'particles', 'excitons', 'transition', 'dielectric', 'place', 'problem', 'equations', 'accuracy', 'method', 'averages', 'energies', 'parquet', 'vertices']\n",
            "Sentence 16 Generated Title: analysis given model semimetal isotropic electron hole spectra separated momentum space applied magnetic field assumed strong enough ensure one quantum level participates spectrum overlapping levels fermi energy greater binding energy particle pairs weak point interaction assumed operate particles valid fields\n",
            "Sentence 16 Score: 0.43243243243243246\n",
            "Sentence 17 Extracted Keywords: ['twin', 'soii', 'samples', 'points', 'fields', 'survey', 'fields', 'distribution', 'virus', 'vector', 'samples', 'depth', 'site', 'transects', 'distances', 'samples', 'virus', 'dia', 'cm', 'pots', 'petunia', 'hybrida', 'cucumis', 'seedlings', 'weeks', 'indicator', 'plants', 'phosphatase', 'version', 'f', 'ab', 'elisa', 'virus', 'identification', 'viruses', 'sites', 'combinations', 'viruses', 'sites', 'ringspot', 'arabis', 'mosaic', 'amv', 'raspberry', 'tingspot', 'ring', 'tornato', 'tabacco', 'rattle', 'sites', 'sites', 'samples', 'vector', 'xiphinema', 'diversicaudatum', 'virus', 'vector', 'combinations', 'samples', 'vector', 'nematodes', 'numbers', 'nematodes', 'samples', 'recovery', 'virus', 'disttibutions', 'analysis', 'pairs', 'samples', 'distances', 'probabiiity', 'recovery', 'virus', 'pairs', 'samples', 'nepoviruses', 'tobraviruses', 'gtid', 'lattice', 'points']\n",
            "Sentence 17 Generated Title: two viruses occuring four sites raspberry ringspot arabis mosaic amv raspberry tingspot tornato black ring tornato black ting tabacco rattle trv al two sites trv\n",
            "Sentence 17 Score: 0.21818181818181817\n",
            "Sentence 18 Extracted Keywords: ['tudions', 'communication', 'ÿ', 'plusieurs', 'joueurs', 'joueurs', 'correspondent', 'aux', 'dƒun', 'rseau', 'chaque', 'joueur', 'connažñt', 'la', 'du', 'rseau', 'son', 'ainsi', 'que', 'ceux', 'voisins', 'les', 'joueurs', 'un', 'message', 'ÿ', 'arbitre', 'qui', 'dcider', 'proprit', 'du', 'graphe', 'point', 'communication', 'des', 'messages', 'situations', 'diffrentes', 'les', 'protocoles', 'dterministes', 'les', 'protocoles', 'probabilistes', 'bits', 'alatoires', 'publics', 'les', 'protocoles', 'probabilistes', 'des', 'bits', 'alatoires', 'ce', 'travaillons', 'fonction', 'boolenne', 'jumeaux', 'dont', 'le', 'rsultat', 'vrai', 'si', 'le', 'graphe', 'possde', 'sommets', 'm¦me', 'voisinage', 'f', 'aux', 'sinon']\n",
            "Sentence 18 Generated Title: tu tudions un modle de communication  plusieurs joueurs les joueurs correspondent aux noeuds dun rseau chaque joueur connat la taille du rseau\n",
            "Sentence 18 Score: 0.24074074074074073\n",
            "Sentence 19 Extracted Keywords: ['transport', 'ion', 'macroscopic', 'control', 'problem', 'length', 'time', 'scales', 'limitations', 'controls', 'performance', 'control', 'techniques', 'stateoftheart', 'ion', 'traps', 'optimization', 'trajectories', 'wavepacket', 'propagation', 'solutions', 'inverse', 'engineering', 'control', 'applicability', 'control', 'methods', 'time', 'scales', 'set', 'tools', 'number', 'observations', 'shuttling', 'operation', 'times', 'period', 'speed', 'acceleration', 'ion', 'controls', 'dynamics', 'propagation', 'wavepacket', 'effect', 'range', 'parameters', 'force', 'inverse', 'engineering', 'increase', 'operation', 'time', 'work', 'terms', 'commons', 'attribution', 'licence', 'distribution', 'work', 'attribution', 'authors', 'work', 'journal', 'citation', 'physics', 'deutsche', 'physikalische', 'gesellschaft']\n",
            "Sentence 19 Generated Title: accurate transport ion macroscopic distances represents challenging control problem due different length time scales controls need accounted investigate performance different control techniques ion transport stateoftheart segmented miniaturized ion traps employ\n",
            "Sentence 19 Score: 0.25\n",
            "Total Score: 8.421675350920635\n",
            "Average Score: 0.44324607110108605\n"
          ]
        }
      ],
      "source": [
        "import nltk\n",
        "nltk.download('averaged_perceptron_tagger')\n",
        "nltk.download('maxent_ne_chunker')\n",
        "nltk.download('words')\n",
        "\n",
        "from transformers import AutoTokenizer, T5ForConditionalGeneration\n",
        "from nltk.tokenize import word_tokenize\n",
        "from nltk.tag import pos_tag\n",
        "from nltk.chunk import ne_chunk\n",
        "\n",
        "model_name = 't5-base'\n",
        "tokenizer = AutoTokenizer.from_pretrained(model_name)\n",
        "model = T5ForConditionalGeneration.from_pretrained(model_name)\n",
        "df['Preprocessed Tokens'] = df['Preprocessed Abstract'].apply(word_tokenize)\n",
        "\n",
        "def extract_keywords(sentence):\n",
        "    keywords = []\n",
        "    pos_tags = pos_tag(sentence)\n",
        "    ner_tags = ne_chunk(pos_tags)\n",
        "    for tag in ner_tags:\n",
        "        if hasattr(tag, 'label') and tag.label() == 'PERSON':  #extracting person names\n",
        "            keywords.append(tag[0][0])\n",
        "        elif hasattr(tag, 'label') and tag.label() == 'ORGANIZATION':  #extracting organization names\n",
        "            keywords.append(tag[0][0])\n",
        "        elif tag[1] in ['NN', 'NNS', 'NNP', 'NNPS']:  #extracting nouns\n",
        "            keywords.append(tag[0])\n",
        "    \n",
        "    return keywords\n",
        "\n",
        "def calculate_score(title, keywords):\n",
        "    title_tokens = set(word_tokenize(title))\n",
        "    keyword_tokens = set(keywords)\n",
        "    intersection = title_tokens.intersection(keyword_tokens)\n",
        "    score = len(intersection) / len(keyword_tokens)\n",
        "    return score\n",
        "\n",
        "tot_score = 0\n",
        "num_sen = 0\n",
        "\n",
        "for index, row in df.iterrows():\n",
        "    abstract = row['Preprocessed Abstract']\n",
        "    extracted_keywords = extract_keywords(row['Preprocessed Tokens'])\n",
        "    \n",
        "    inputs = tokenizer.encode(\"summarize: \" + abstract, truncation=True, max_length=512, return_tensors=\"pt\")\n",
        "    outputs = model.generate(inputs, max_length=50, num_beams=4, early_stopping=True)\n",
        "    generated_title = tokenizer.decode(outputs[0], skip_special_tokens=True)\n",
        "    \n",
        "    score = calculate_score(generated_title, extracted_keywords)\n",
        "\n",
        "    print(f\"Sentence {index+1} Extracted Keywords: {extracted_keywords}\")\n",
        "    print(f\"Sentence {index+1} Generated Title: {generated_title}\")\n",
        "    print(f\"Sentence {index+1} Score: {score}\")\n",
        "    tot_score += score\n",
        "    num_sen += 1\n",
        "\n",
        "avg_score = tot_score / num_sen\n",
        "\n",
        "print(f\"Total Score: {tot_score}\")\n",
        "print(f\"Average Score: {avg_score}\")\n"
      ]
    },
    {
      "cell_type": "code",
      "execution_count": null,
      "metadata": {
        "colab": {
          "base_uri": "https://localhost:8080/"
        },
        "id": "x2KXcmSRhwPz",
        "outputId": "6cc1bf97-c8a6-4fe6-88cb-013ef30be07d"
      },
      "outputs": [
        {
          "name": "stdout",
          "output_type": "stream",
          "text": [
            "Sentence 1 Keywords: ['study', 'two', 'dairy', 'compost', 'heaps', 'one', 'vegetable', 'scrap', 'compost', 'heap', 'constructed', 'two', 'research', 'farms', 'clemson', 'sc', 'samples', 'taken', 'fr', 'om', 'ach', 'heap', 'different', 'locations', 'elected', 'intervals', 'analyzed', 'enterococ', 'ci', 'vre', 'counts', 'spread', 'plating', 'bile', 'esculin', 'agar', 'bea', 'bea', 'containing', '¬gml', 'vancomycin', 'respectively', 'initial', 'populations', 'enterococci', 'vre', 'compost', 'range', 'log', 'cfug', 'respectively', 'days', 'active', 'composting', 'average', 'vre', 'populations', 'declined', 'ca', 'logs', 'top', 'center', 'bottom', 'surface', 'locations', 'heaps', 'respectively', 'whereas', 'enterococci', 'populations', 'declined', 'logs', 'respectively', 'two', 'dairy', 'compost', 'trials', 'temperatures', 'top', 'center', 'bottom', 'locations', 'excess', 'øc', 'ƒ', 'days', 'respectively', 'whereas', 'temperatures', 'surface', 'samples', 'never', 'exceeded', 'øc', 'thermophilic', 'composting', 'microbial', 'activity', 'slightly', 'reduced', 'ph', 'began', 'rise', 'slightly', 'due', 'production', 'ammonia', 'moisture', 'content', 'inside', 'heaps', 'changed', 'little', 'active', 'composting', 'trials']\n",
            "Sentence 2 Keywords: ['describe', 'geometric', 'noncommutative', 'formal', 'groups', 'terms', 'geometric', 'commutative', 'formal', 'group', 'poisson', 'structure', 'splay', 'algebra', 'describe', 'certain', 'natural', 'properties', 'poisson', 'structures', 'show', 'poisson', 'structure', 'gives', 'rise', 'noncommutative', 'formal', 'group', 'describe', 'geometric', 'noncommutative', 'formal', 'groups', 'terms', 'geometric', 'commutative', 'formal', 'group', 'poisson', 'structure', 'splay', 'algebra', 'describe', 'certain', 'natural', 'properties', 'poisson', 'structures', 'show', 'poisson', 'structure', 'gives', 'rise', 'noncommutative', 'formal', 'group', 'characterizing', 'noncommutative', 'formal', 'groups', 'g', 'natural', 'consider', 'distribution', 'algebras', 'distg', 'although', 'interested', 'mainly', 'characteristic', 'p', 'setting', 'make', 'effort', 'work', 'analogy', 'characteristic', 'zero', 'version', 'problem', 'let', 'g', 'formal', 'group', 'lie', 'algebra', 'g', 'recall', 'characteristic', 'zero', 'canonical', 'isomorphism', 'distg', 'universal', 'enveloping', 'algebra', 'ug', 'problem', 'reduces', 'describing', 'algebraic', 'relationship', 'symmetric', 'sg', 'ug', 'tensor', 'algebra', 'tg', 'following', 'diagram', 'tg', 'sg', 'ƒ¬', 'ƒ', 'pbw', 'ug', 'diagonal', 'arrows', 'algebra', 'maps', 'horizontal', 'arrow', 'vector', 'space', 'isomorphism', 'given', 'poincarbirkhoffwitt', 'pbw', 'theorem', 'positive', 'characteristic', 'setting', 'features', 'present', 'difficulties', 'absent', 'zero', 'characteristic', 'setting', 'sense', 'made', 'precise', 'problem', 'nonlinear', 'unlike', 'zero', 'characteristic', 'setting', 'algebras', 'importance', 'quadratic', 'let', 'us', 'recall', 'characteristic', 'zero', 'pbw', 'theorem', 'gives', 'identification', 'sg', 'associated', 'graded', 'algebra', 'ug', 'may', 'regard', 'sg', 'universal', 'enveloping', 'algebra', 'trivial', 'lie', 'algebra', 'structure', 'g']\n",
            "Sentence 3 Keywords: ['numerical', 'solution', 'partial', 'differential', 'equations', 'pdes', 'highquality', 'meshes', 'crucial', 'stability', 'accuracy', 'convergence', 'associated', 'pde', 'solver', 'mesh', 'quality', 'improvement', 'often', 'performed', 'improve', 'quality', 'meshes', 'use', 'numerical', 'solution', 'pde', 'mesh', 'smoothing', 'performed', 'via', 'optimization', 'one', 'popular', 'technique', 'improving', 'mesh', 'quality', 'making', 'adjustments', 'vertex', 'locations', 'inefficient', 'mesh', 'quality', 'metric', 'used', 'design', 'optimization', 'problem', 'hence', 'also', 'measure', 'mesh', 'quality', 'within', 'optimization', 'procedure', 'convergence', 'optimization', 'method', 'much', 'slower', 'desired', 'however', 'many', 'applications', 'choice', 'mesh', 'quality', 'metric', 'optimization', 'problem', 'considered', 'fixed', 'paper', 'propose', 'simple', 'mesh', 'quality', 'metric', 'alternation', 'scheme', 'use', 'mesh', 'optimization', 'process', 'idea', 'alternate', 'use', 'original', 'inefficient', 'mesh', 'quality', 'metric', 'efficient', 'mesh', 'quality', 'metric', 'alternate', 'iterations', 'mesh', 'optimization', 'procedure', 'order', 'reduce', 'time', 'convergence', 'solving', 'original', 'mesh', 'quality', 'improvement', 'problem', 'typical', 'results', 'using', 'application', 'scheme', 'solve', 'mesh', 'quality', 'improvement', 'problems', 'yield', 'approximately', 'improvement', 'comparison', 'original', 'mesh', 'optimization', 'procedure', 'frequent', 'use', 'efficient', 'metric', 'results', 'greater', 'speedups']\n",
            "Sentence 4 Keywords: ['qualitative', 'case', 'study', 'hardly', 'research', 'technique', 'proper', 'sense', 'typical', 'qualitative', 'research', 'employ', 'usage', 'research', 'design', 'hence', 'merits', 'discussion', 'paper', 'considers', 'methodological', 'issues', 'collecting', 'qualitative', 'data', 'distance', 'learners', 'universiti', 'utara', 'malaysia', 'uum', 'paper', 'begins', 'overview', 'study', 'describing', 'case', 'study', 'range', 'methods', 'used', 'examines', 'merits', 'limitations', 'research', 'methods', 'specifically', 'paper', 'discusses', 'two', 'methodological', 'issues', 'qualitative', 'case', 'study', 'generalisation', 'research', 'findings', 'integrity', 'research', 'reports', 'concluding', 'remarks', 'made', 'appropriateness', 'effectiveness', 'method', 'used', 'discussion', 'paper', 'attempt', 'highlight', 'plausible', 'major', 'issues', 'researchers', 'may', 'encounter', 'qualitative', 'convention', 'adopted', 'malaysian', 'educational', 'research', 'setting']\n",
            "Sentence 5 Keywords: ['resumen', 'en', 'la', 'actualidad', 'est\\xadn', 'apareciendo', 'un', 'gran', 'n§mero', 'de', 'herramientas', 'que', 'proporcionan', 'soporte', 'para', 'transformar', 'modelos', 'obstante', 'hasta', 'el', 'momento', 'existe', 'ninguna', 'que', 'haya', 'tenido', 'en', 'consideracin', 'el', 'lenguaje', 'est\\xadndar', 'qvt', 'relations', 'en', 'este', 'artculo', 'se', 'presenta', 'la', 'arquitectura', 'de', 'un', 'motor', 'de', 'transformacin', 'de', 'modelos', 'que', 'proporciona', 'soporte', 'para', 'este', 'lenguaje', 'est\\xadndar', 'dentro', 'del', 'framework', 'de', 'gestin', 'de', 'modelos', 'moment', 'este', 'motor', 'de', 'transformaciones', 'ha', 'sido', 'definido', 'mediante', 'la', 'utilizacin', 'de', 'mtodos', 'formales', 'como', 'plugin', 'dentro', 'de', 'eclipse', 'haciendo', 'uso', 'de', 'eclipse', 'modeling', 'framework', 'para', 'la', 'manipulacin', 'de', 'modelos']\n",
            "Sentence 6 Keywords: ['theory', 'functional', 'discourse', 'grammar', 'assumes', 'structure', 'linguistic', 'items', 'large', 'extent', 'determined', 'use', 'idea', 'yet', 'fleshed', 'realm', 'phonology', 'phonetics', 'present', 'paper', 'aims', 'address', 'void', 'argues', 'fdg', 'extended', 'fifth', 'level', 'representation', 'namely', 'phonetic', 'level', 'addition', 'model', 'capture', 'interaction', 'two', 'competing', 'functional', 'pressures', 'maximization', 'perceptual', 'distinctiveness', 'minimization', 'articulatory', 'effort']\n",
            "Sentence 7 Keywords: ['software', 'maintenance', 'reuse', 'require', 'identification', 'applied', 'software', 'licenses', 'information', 'needs', 'maintainers', 'reusers', 'supported', 'reverse', 'engineering', 'tools', 'different', 'information', 'retrieval', 'levels', 'paper', 'presents', 'reverse', 'engineering', 'approach', 'called', 'asla', 'retrieving', 'license', 'information', 'typically', 'used', 'oss', 'user', 'needs', 'system', 'architecture', 'tool', 'features', 'tool', 'evaluation', 'presented', 'implemented', 'tool', 'features', 'include', 'support', 'identifying', 'source', 'file', 'dependencies', 'licenses', 'source', 'files', 'tool', 'evaluated', 'another', 'tool', 'license', 'information', 'extraction', 'asla', 'supports', 'programming', 'languages', 'gcc', 'license', 'identification', 'coverage', 'good', 'tool', 'extendable']\n",
            "Sentence 8 Keywords: ['article', 'provides', 'principles', 'practice', 'interference', 'cancellation', 'implemented', 'evdo', 'rev', 'reverse', 'link', 'shown', 'applying', 'interference', 'cancellation', 'cdma', 'achieves', 'multiple', 'access', 'channel', 'sum', 'rate', 'capacity', 'either', 'frame', 'synchronous', 'asynchronous', 'users', 'per', 'user', 'sinr', 'gain', 'spacetime', 'interference', 'cancellation', 'translates', 'directly', 'cdma', 'capacity', 'gain', 'factor', 'allowing', 'evdo', 'rev', 'support', 'users', 'higher', 'data', 'rates', 'demonstrate', 'interference', 'cancellation', 'added', 'base', 'station', 'processing', 'without', 'modifying', 'user', 'terminals', 'evdo', 'standards', 'network', 'coverage', 'present', 'commercially', 'viable', 'receiver', 'architectures', 'implementing', 'interference', 'cancellation', 'asynchronism', 'harq', 'evdo', 'reva', 'explain', 'closed', 'loop', 'power', 'control', 'operate', 'way', 'today', 'network', 'level', 'simulations', 'wide', 'range', 'channels', 'confirm', 'interference', 'cancellation', 'offers', 'significant', 'capacity', 'gains', 'users', 'maintaining', 'link', 'budget', 'system', 'stability']\n",
            "Sentence 9 Keywords: ['many', 'optimization', 'techniques', 'invented', 'reduce', 'noise', 'inherent', 'monte', 'carlo', 'radiative', 'transfer', 'simulations', 'typical', 'detectors', 'used', 'monte', 'carlo', 'simulations', 'take', 'account', 'information', 'contained', 'impacting', 'photon', 'packages', 'still', 'room', 'optimize', 'detection', 'process', 'corresponding', 'estimate', 'surface', 'brightness', 'distributions', 'want', 'investigate', 'information', 'contained', 'distribution', 'impacting', 'photon', 'packages', 'optimally', 'used', 'decrease', 'noise', 'surface', 'brightness', 'distributions', 'hence', 'increase', 'efficiency', 'monte', 'carlo', 'radiative', 'transfer', 'simulations', 'demonstrate', 'estimate', 'surface', 'brightness', 'distribution', 'monte', 'carlo', 'radiative', 'transfer', 'simulation', 'similar', 'estimate', 'density', 'distribution', 'sph', 'simulation', 'based', 'similarity', 'recipe', 'constructed', 'smart', 'detectors', 'take', 'full', 'advantage', 'exact', 'location', 'impact', 'photon', 'packages', 'several', 'types', 'smart', 'detectors', 'corresponding', 'different', 'smoothing', 'kernel', 'presented', 'show', 'smart', 'detectors', 'preserving', 'effective', 'resolution', 'reduce', 'noise', 'surface', 'brightness', 'distributions', 'compared', 'classical', 'detectors', 'efficient', 'smart', 'detector', 'realizes', 'noise', 'reduction', 'corresponds', 'reduction', 'required', 'number', 'photon', 'packages', 'ie', 'reduction', 'simulation', 'run', 'time', 'practical', 'implementation', 'smart', 'detectors', 'straightforward', 'additional', 'computational', 'cost', 'completely', 'negligible', 'recommend', 'use', 'smart', 'detectors', 'monte', 'carlo', 'radiative', 'transfer', 'simulations']\n",
            "Sentence 10 Keywords: ['introduction', 'problems', 'faced', 'cartilage', 'grafts', 'resorption', 'malposition', 'palpability', 'distortion', 'led', 'many', 'surgeons', 'shift', 'cartilage', 'flaps', 'instead', 'free', 'grafting', 'especially', 'difficult', 'changeling', 'rhinoplasty', 'middleeastern', 'patients', 'patients', 'methods', 'prospective', 'study', 'involving', 'patients', 'underwent', 'rhinoplasty', 'use', 'insitu', 'spreader', 'alar', 'cartilage', 'flaps', 'evaluation', 'done', 'subjectively', 'objectively', 'results', 'patients', 'except', 'four', 'showed', 'significant', 'improvement', 'mean', 'subjective', 'breathing', 'quality', 'surgery', 'together', 'excellent', 'aesthetic', 'outcome', 'patients', 'five', 'patients', 'rated', 'result', 'good', 'two', 'patients', 'rated', 'procedure', 'poor', 'conclusion', 'spreader', 'flap', 'made', 'upper', 'lateral', 'cartilages', 'perfect', 'alternative', 'spreader', 'grafts', 'middleeastern', 'patients', 'alar', 'cartilage', 'flaps', 'mandatory', 'rhinoplasty']\n",
            "Sentence 11 Keywords: ['recent', 'paper', 'l', 'bokut', 'v', 'v', 'chaynikov', 'k', 'p', 'shum', 'braid', 'group', 'bn', 'represented', 'artinburauƒs', 'relations', 'representation', 'told', 'compositions', 'checked', 'way', 'note', 'support', 'claim', 'check', 'compositions']\n",
            "Sentence 12 Keywords: ['threat', 'soft', 'error', 'induced', 'system', 'failure', 'computing', 'systems', 'become', 'prominent', 'adopt', 'ultradeep', 'submicron', 'process', 'technologies', 'paper', 'propose', 'two', 'efficient', 'soft', 'error', 'mitigation', 'schemes', 'namely', 'soft', 'error', 'mitigation', 'sem', 'soft', 'timing', 'error', 'mitigation', 'stem', 'using', 'approach', 'multiple', 'clocking', 'data', 'protecting', 'combinational', 'logic', 'blocks', 'soft', 'errors', 'first', 'technique', 'sem', 'based', 'distributed', 'temporal', 'voting', 'three', 'registers', 'unloads', 'soft', 'error', 'detection', 'overhead', 'critical', 'path', 'systems', 'sem', 'also', 'capable', 'ignoring', 'false', 'errors', 'recovers', 'soft', 'errors', 'using', 'insitu', 'fast', 'recovery', 'avoiding', 'recomputation', 'second', 'technique', 'stem', 'tolerating', 'soft', 'errors', 'adds', 'timing', 'error', 'detection', 'capability', 'guarantee', 'reliable', 'execution', 'aggressively', 'clocked', 'designs', 'enhance', 'system', 'performance', 'operating', 'beyond', 'worstcase', 'clock', 'frequency', 'also', 'present', 'specialized', 'low', 'overhead', 'clock', 'phase', 'management', 'scheme', 'ably', 'supports', 'proposed', 'techniques', 'timingannotated', 'gatelevel', 'simulations', 'using', 'nm', 'libraries', 'pipelined', 'addermultiplier', 'dlx', 'processor', 'show', 'techniques', 'achieve', 'near', 'percent', 'fault', 'coverage', 'dlx', 'processor', 'even', 'severe', 'fault', 'injection', 'campaigns', 'sem', 'achieves', 'average', 'performance', 'improvement', 'percent', 'conventional', 'triple', 'modular', 'redundancy', 'voterbased', 'soft', 'error', 'mitigation', 'scheme', 'stem', 'outperforms', 'sem', 'percent']\n",
            "Sentence 13 Keywords: ['ac', 'transport', 'losses', 'multifilamentary', 'bscco', 'silver', 'sheathed', 'tapes', 'function', 'applied', 'external', 'magnetic', 'field', 'direction', 'respect', 'plane', 'samples', 'reported', 'measurements', 'carried', 'k', 'frequency', 'hz', 'ac', 'transport', 'current', 'values', 'tapes', 'range', 'percent', 'dc', 'critical', 'current', 'values', 'kept', 'constant', 'rotating', 'external', 'magnetic', 'field', 'also', 'similar', 'way', 'dc', 'critical', 'current', 'angular', 'characteristics', 'measured', 'transport', 'losses', 'function', 'angle', 'magnetic', 'field', 'scale', 'using', 'analogous', 'dc', 'critical', 'current', 'relations', 'obtained', 'results', 'compared', 'theoretical', 'models', 'selffield', 'losses']\n",
            "Sentence 14 Keywords: ['mg', 'classic', 'queueing', 'system', 'extended', 'many', 'authors', 'last', 'two', 'decades', 'systems', 'serverƒs', 'vacation', 'important', 'models', 'extend', 'mg', 'queueing', 'system', 'also', 'another', 'conditions', 'admissibility', 'restricted', 'may', 'occure', 'systems', 'motivation', 'system', 'consider', 'single', 'server', 'queue', 'batch', 'arrival', 'poisson', 'input', 'restricted', 'admissibility', 'arriving', 'batches', 'batches', 'allowed', 'join', 'system', 'times', 'service', 'completion', 'epoch', 'server', 'may', 'apt', 'take', 'vacation', 'probability', 'else', 'probability', 'ƒ', 'may', 'continue', 'available', 'system', 'next', 'service', 'vacation', 'period', 'server', 'two', 'heterogenous', 'phases', 'phase', 'one', 'compulsory', 'phase', 'two', 'follows', 'phase', 'one', 'vacation', 'way', 'server', 'may', 'take', 'phase', 'two', 'probability', 'p', 'may', 'return', 'back', 'system', 'probability', 'ƒ', 'p', 'vacation', 'times', 'assumed', 'general', 'stochastic', 'processes', 'involved', 'system', 'service', 'vacation', 'times', 'independent', 'derive', 'pgfƒs', 'system', 'using', 'informance', 'measures', 'obtained', 'numerical', 'approaches', 'examined', 'validity', 'results']\n",
            "Sentence 15 Keywords: ['edge', 'systems', 'reveal', 'properties', 'disk', 'galaxies', 'function', 'height', 'z', 'plane', 'four', 'local', 'edgeon', 'galaxies', 'close', 'enough', 'resolved', 'stars', 'hubble', 'space', 'telescope', 'show', 'thick', 'disks', 'composed', 'red', 'stellar', 'population', 'old', 'relatively', 'metal', 'rich', 'color', 'gradients', 'ƒviƒz', 'zero', 'slightly', 'positive', 'favored', 'models', 'may', 'explicit', 'thick', 'disk', 'formation', 'phase']\n",
            "Sentence 16 Keywords: ['analysis', 'given', 'model', 'semimetal', 'isotropic', 'electron', 'hole', 'spectra', 'separated', 'momentum', 'space', 'applied', 'magnetic', 'field', 'assumed', 'strong', 'enough', 'ensure', 'one', 'quantum', 'level', 'participates', 'spectrum', 'overlapping', 'levels', 'fermi', 'energy', 'greater', 'binding', 'energy', 'particle', 'pairs', 'weak', 'point', 'interaction', 'assumed', 'operate', 'particles', 'valid', 'fields', 'dielectric', 'constants', 'high', 'sign', 'interaction', 'arbitrary', 'since', 'analysis', 'concerned', 'spinless', 'fermions', 'degeneracy', 'removed', 'field', 'system', 'exhibits', 'interactions', 'electrons', 'holes', 'interaction', 'particles', 'kind', 'shown', 'cooper', 'pairing', 'particles', 'charge', 'absent', 'electronhole', 'excitons', 'formed', 'ie', 'transition', 'dielectric', 'takes', 'place', 'problem', 'leads', 'parquet', 'equations', 'therefore', 'solved', 'logarithmic', 'accuracy', 'general', 'method', 'developed', 'finding', 'anomalous', 'averages', 'corresponding', 'pairing', 'binding', 'energies', 'asymmetric', 'parquet', 'vertices']\n",
            "Sentence 17 Keywords: ['twin', 'soii', 'samples', 'coliected', 'sampling', 'points', 'eight', 'fields', 'survey', 'fields', 'eastern', 'scotland', 'determine', 'spatial', 'distribution', 'virus', 'vector', 'nematodes', 'samples', 'taken', 'cm', 'depth', 'site', 'ten', 'transects', 'apart', 'distances', 'samples', 'cm', 'virus', 'detected', 'baittesting', 'fieldsoii', 'cm', 'dia', 'cm', 'plastic', 'pots', 'planted', 'petunia', 'hybrida', 'cucumis', 'sativus', 'seedlings', 'four', 'weeks', 'symptoms', 'indicator', 'plants', 'electron', 'microscopy', 'alkaline', 'phosphatase', 'version', 'f', 'ab', 'elisa', 'used', 'virus', 'identification', 'viruses', 'recovered', 'seven', 'sites', 'combinations', 'two', 'viruses', 'occurting', 'four', 'sites', 'raspberry', 'ringspot', 'arabis', 'mosaic', 'amv', 'raspberry', 'tingspot', 'tornato', 'black', 'ring', 'tornato', 'black', 'ting', 'tabacco', 'rattle', 'trv', 'al', 'two', 'sites', 'trv', 'alone', 'three', 'sites', 'amv', 'recovered', 'samples', 'containing', 'vector', 'xiphinema', 'diversicaudatum', 'whereas', 'ali', 'virus', 'vector', 'combinations', 'virus', 'always', 'recovered', 'samples', 'containing', 'vector', 'nematodes', 'also', 'numbers', 'vector', 'nematodes', 'samples', 'dici', 'influente', 'recovery', 'virus', 'disttibutions', 'viruses', 'highly', 'aggregated', 'analysis', 'possible', 'pairs', 'samples', 'classified', 'distances', 'apart', 'revealed', 'high', 'probabiiity', 'recovery', 'virus', 'pairs', 'samples', 'apart', 'sampling', 'detecting', 'nepoviruses', 'tobraviruses', 'therefore', 'based', 'regular', 'gtid', 'lattice', 'sampling', 'points']\n",
            "Sentence 18 Keywords: ['nous', 'tudions', 'un', 'modle', 'de', 'communication', 'ÿ', 'plusieurs', 'joueurs', 'les', 'joueurs', 'correspondent', 'aux', 'noeuds', 'dƒun', 'rseau', 'chaque', 'joueur', 'connažñt', 'la', 'taille', 'du', 'rseau', 'son', 'identifiant', 'ainsi', 'que', 'ceux', 'de', 'ses', 'voisins', 'les', 'joueurs', 'envoient', 'simultanment', 'un', 'unique', 'message', 'ÿ', 'un', 'arbitre', 'qui', 'doit', 'dcider', 'une', 'proprit', 'du', 'graphe', 'lƒobjectif', 'de', 'lƒarticle', 'est', 'de', 'sparer', 'du', 'point', 'de', 'vue', 'de', 'la', 'complexit', 'de', 'communication', 'la', 'taille', 'des', 'messages', 'trois', 'situations', 'diffrentes', 'les', 'protocoles', 'dterministes', 'les', 'protocoles', 'probabilistes', 'avec', 'des', 'bits', 'alatoires', 'publics', 'et', 'les', 'protocoles', 'probabilistes', 'avec', 'uniquement', 'des', 'bits', 'alatoires', 'privs', 'pour', 'ce', 'faire', 'nous', 'travaillons', 'autour', 'de', 'la', 'fonction', 'boolenne', 'jumeaux', 'dont', 'le', 'rsultat', 'est', 'vrai', 'si', 'le', 'graphe', 'possde', 'deux', 'sommets', 'ayant', 'le', 'm¦me', 'voisinage', 'et', 'f', 'aux', 'sinon']\n",
            "Sentence 19 Keywords: ['accurate', 'transport', 'ion', 'macroscopic', 'distances', 'represents', 'challenging', 'control', 'problem', 'due', 'different', 'length', 'time', 'scales', 'enter', 'experimental', 'limitations', 'controls', 'need', 'accounted', 'investigate', 'performance', 'different', 'control', 'techniques', 'ion', 'transport', 'stateoftheart', 'segmented', 'miniaturized', 'ion', 'traps', 'employ', 'numerical', 'optimization', 'classical', 'trajectories', 'quantum', 'wavepacket', 'propagation', 'well', 'analytical', 'solutions', 'derived', 'invariant', 'based', 'inverse', 'engineering', 'geometric', 'optimal', 'control', 'applicability', 'control', 'methods', 'depends', 'length', 'time', 'scales', 'transport', 'comprehensive', 'set', 'tools', 'allows', 'us', 'make', 'number', 'observations', 'find', 'accurate', 'shuttling', 'performed', 'operation', 'times', 'trap', 'oscillation', 'period', 'maximum', 'speed', 'limited', 'maximum', 'acceleration', 'exerted', 'ion', 'using', 'controls', 'obtained', 'classical', 'dynamics', 'wavepacket', 'propagation', 'wavepacket', 'squeezing', 'quantum', 'effect', 'comes', 'play', 'large', 'range', 'trapping', 'parameters', 'show', 'corrected', 'compensating', 'force', 'derived', 'invariant', 'based', 'inverse', 'engineering', 'without', 'significant', 'increase', 'operation', 'time', 'content', 'work', 'may', 'used', 'terms', 'creative', 'commons', 'attribution', 'licence', 'distribution', 'work', 'must', 'maintain', 'attribution', 'authors', 'title', 'work', 'journal', 'citation', 'doi', 'new', 'journal', 'physics', 'iop', 'publishing', 'ltd', 'deutsche', 'physikalische', 'gesellschaft']\n"
          ]
        }
      ],
      "source": [
        "keywords_list = []\n",
        "\n",
        "for index, row in df.iterrows():\n",
        "    tokens = row['Preprocessed Tokens']\n",
        "    keywords_list.append(tokens)\n",
        "\n",
        "for index, keywords in enumerate(keywords_list):\n",
        "    print(f\"Sentence {index+1} Keywords: {keywords}\")\n"
      ]
    },
    {
      "cell_type": "code",
      "execution_count": null,
      "metadata": {
        "colab": {
          "base_uri": "https://localhost:8080/"
        },
        "id": "jsq5UFqF-ZGN",
        "outputId": "f0e0d2f2-f33c-405f-d2fc-00e1ba9e95b4"
      },
      "outputs": [
        {
          "name": "stdout",
          "output_type": "stream",
          "text": [
            "0     study two dairy compost heaps one vegetable sc...\n",
            "1     describe geometric noncommutative formal group...\n",
            "2     numerical solution partial differential equati...\n",
            "3     qualitative case study hardly research techniq...\n",
            "4     resumen en la actualidad est­n apareciendo un ...\n",
            "5     theory functional discourse grammar assumes st...\n",
            "6     software maintenance reuse require identificat...\n",
            "7     article provides principles practice interfere...\n",
            "8     many optimization techniques invented reduce n...\n",
            "9     introduction problems faced cartilage grafts r...\n",
            "10    recent paper l bokut v v chaynikov k p shum br...\n",
            "11    threat soft error induced system failure compu...\n",
            "12    ac transport losses multifilamentary bscco sil...\n",
            "13    mg classic queueing system extended many autho...\n",
            "14    edge systems reveal properties disk galaxies f...\n",
            "15    analysis given model semimetal isotropic elect...\n",
            "16    twin soii samples coliected sampling points ei...\n",
            "17    nous tudions un modle de communication ÿ plusi...\n",
            "18    accurate transport ion macroscopic distances r...\n",
            "Name: Preprocessed Abstract, dtype: object\n"
          ]
        }
      ],
      "source": [
        "print(df['Preprocessed Abstract'].head(28))\n"
      ]
    },
    {
      "cell_type": "code",
      "execution_count": null,
      "metadata": {
        "colab": {
          "base_uri": "https://localhost:8080/"
        },
        "id": "K7yEcCvrEzGN",
        "outputId": "6d50d81a-3629-40d5-eded-312636fa1313"
      },
      "outputs": [
        {
          "name": "stdout",
          "output_type": "stream",
          "text": [
            "254.05263157894737\n"
          ]
        }
      ],
      "source": [
        "def calculate_sentence_score(sentence, keywords):\n",
        "    score = 0\n",
        "    words = sentence.split()\n",
        "    keyword_score = sum(1 for word in words if word in keywords)\n",
        "    score += keyword_score\n",
        "    \n",
        "    length_score = len(words)\n",
        "    score += length_score    \n",
        "    return score\n",
        "print(score)"
      ]
    }
  ],
  "metadata": {
    "colab": {
      "provenance": []
    },
    "kernelspec": {
      "display_name": "Python 3",
      "name": "python3"
    },
    "language_info": {
      "name": "python"
    }
  },
  "nbformat": 4,
  "nbformat_minor": 0
}
