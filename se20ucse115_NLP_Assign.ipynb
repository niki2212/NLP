{
  "nbformat": 4,
  "nbformat_minor": 0,
  "metadata": {
    "colab": {
      "provenance": []
    },
    "kernelspec": {
      "name": "python3",
      "display_name": "Python 3"
    },
    "language_info": {
      "name": "python"
    }
  },
  "cells": [
    {
      "cell_type": "markdown",
      "source": [
        "importing nltk library\n",
        "punkt is for tokenization\n",
        "stopwords is for stop words (a, an, the, in etc)"
      ],
      "metadata": {
        "id": "JRCH2xTz1koK"
      }
    },
    {
      "cell_type": "code",
      "execution_count": null,
      "metadata": {
        "id": "mf0Lkn_Z6i88",
        "colab": {
          "base_uri": "https://localhost:8080/"
        },
        "outputId": "6b3fe68c-d657-485c-bb56-fa037ef5a910"
      },
      "outputs": [
        {
          "output_type": "stream",
          "name": "stderr",
          "text": [
            "[nltk_data] Downloading package punkt to /root/nltk_data...\n",
            "[nltk_data]   Unzipping tokenizers/punkt.zip.\n",
            "[nltk_data] Downloading package stopwords to /root/nltk_data...\n",
            "[nltk_data]   Unzipping corpora/stopwords.zip.\n"
          ]
        },
        {
          "output_type": "execute_result",
          "data": {
            "text/plain": [
              "True"
            ]
          },
          "metadata": {},
          "execution_count": 1
        }
      ],
      "source": [
        "import nltk\n",
        "from nltk.corpus import stopwords\n",
        "nltk.download('punkt')\n",
        "nltk.download('stopwords')"
      ]
    },
    {
      "cell_type": "markdown",
      "source": [
        "Mounting google drive to access the files contatining the text"
      ],
      "metadata": {
        "id": "WhXBcYp81_84"
      }
    },
    {
      "cell_type": "code",
      "source": [
        "from google.colab import drive\n",
        "drive.mount('/content/drive')"
      ],
      "metadata": {
        "colab": {
          "base_uri": "https://localhost:8080/",
          "height": 340
        },
        "id": "Y1Yv-MTr8OPs",
        "outputId": "50a9b2d1-bb71-4066-9d4f-9213961049bb"
      },
      "execution_count": null,
      "outputs": [
        {
          "output_type": "error",
          "ename": "MessageError",
          "evalue": "ignored",
          "traceback": [
            "\u001b[0;31m---------------------------------------------------------------------------\u001b[0m",
            "\u001b[0;31mMessageError\u001b[0m                              Traceback (most recent call last)",
            "\u001b[0;32m<ipython-input-2-d5df0069828e>\u001b[0m in \u001b[0;36m<cell line: 2>\u001b[0;34m()\u001b[0m\n\u001b[1;32m      1\u001b[0m \u001b[0;32mfrom\u001b[0m \u001b[0mgoogle\u001b[0m\u001b[0;34m.\u001b[0m\u001b[0mcolab\u001b[0m \u001b[0;32mimport\u001b[0m \u001b[0mdrive\u001b[0m\u001b[0;34m\u001b[0m\u001b[0;34m\u001b[0m\u001b[0m\n\u001b[0;32m----> 2\u001b[0;31m \u001b[0mdrive\u001b[0m\u001b[0;34m.\u001b[0m\u001b[0mmount\u001b[0m\u001b[0;34m(\u001b[0m\u001b[0;34m'/content/drive'\u001b[0m\u001b[0;34m)\u001b[0m\u001b[0;34m\u001b[0m\u001b[0;34m\u001b[0m\u001b[0m\n\u001b[0m",
            "\u001b[0;32m/usr/local/lib/python3.9/dist-packages/google/colab/drive.py\u001b[0m in \u001b[0;36mmount\u001b[0;34m(mountpoint, force_remount, timeout_ms, readonly)\u001b[0m\n\u001b[1;32m    101\u001b[0m \u001b[0;32mdef\u001b[0m \u001b[0mmount\u001b[0m\u001b[0;34m(\u001b[0m\u001b[0mmountpoint\u001b[0m\u001b[0;34m,\u001b[0m \u001b[0mforce_remount\u001b[0m\u001b[0;34m=\u001b[0m\u001b[0;32mFalse\u001b[0m\u001b[0;34m,\u001b[0m \u001b[0mtimeout_ms\u001b[0m\u001b[0;34m=\u001b[0m\u001b[0;36m120000\u001b[0m\u001b[0;34m,\u001b[0m \u001b[0mreadonly\u001b[0m\u001b[0;34m=\u001b[0m\u001b[0;32mFalse\u001b[0m\u001b[0;34m)\u001b[0m\u001b[0;34m:\u001b[0m\u001b[0;34m\u001b[0m\u001b[0;34m\u001b[0m\u001b[0m\n\u001b[1;32m    102\u001b[0m   \u001b[0;34m\"\"\"Mount your Google Drive at the specified mountpoint path.\"\"\"\u001b[0m\u001b[0;34m\u001b[0m\u001b[0;34m\u001b[0m\u001b[0m\n\u001b[0;32m--> 103\u001b[0;31m   return _mount(\n\u001b[0m\u001b[1;32m    104\u001b[0m       \u001b[0mmountpoint\u001b[0m\u001b[0;34m,\u001b[0m\u001b[0;34m\u001b[0m\u001b[0;34m\u001b[0m\u001b[0m\n\u001b[1;32m    105\u001b[0m       \u001b[0mforce_remount\u001b[0m\u001b[0;34m=\u001b[0m\u001b[0mforce_remount\u001b[0m\u001b[0;34m,\u001b[0m\u001b[0;34m\u001b[0m\u001b[0;34m\u001b[0m\u001b[0m\n",
            "\u001b[0;32m/usr/local/lib/python3.9/dist-packages/google/colab/drive.py\u001b[0m in \u001b[0;36m_mount\u001b[0;34m(mountpoint, force_remount, timeout_ms, ephemeral, readonly)\u001b[0m\n\u001b[1;32m    130\u001b[0m   )\n\u001b[1;32m    131\u001b[0m   \u001b[0;32mif\u001b[0m \u001b[0mephemeral\u001b[0m\u001b[0;34m:\u001b[0m\u001b[0;34m\u001b[0m\u001b[0;34m\u001b[0m\u001b[0m\n\u001b[0;32m--> 132\u001b[0;31m     _message.blocking_request(\n\u001b[0m\u001b[1;32m    133\u001b[0m         \u001b[0;34m'request_auth'\u001b[0m\u001b[0;34m,\u001b[0m \u001b[0mrequest\u001b[0m\u001b[0;34m=\u001b[0m\u001b[0;34m{\u001b[0m\u001b[0;34m'authType'\u001b[0m\u001b[0;34m:\u001b[0m \u001b[0;34m'dfs_ephemeral'\u001b[0m\u001b[0;34m}\u001b[0m\u001b[0;34m,\u001b[0m \u001b[0mtimeout_sec\u001b[0m\u001b[0;34m=\u001b[0m\u001b[0;32mNone\u001b[0m\u001b[0;34m\u001b[0m\u001b[0;34m\u001b[0m\u001b[0m\n\u001b[1;32m    134\u001b[0m     )\n",
            "\u001b[0;32m/usr/local/lib/python3.9/dist-packages/google/colab/_message.py\u001b[0m in \u001b[0;36mblocking_request\u001b[0;34m(request_type, request, timeout_sec, parent)\u001b[0m\n\u001b[1;32m    175\u001b[0m       \u001b[0mrequest_type\u001b[0m\u001b[0;34m,\u001b[0m \u001b[0mrequest\u001b[0m\u001b[0;34m,\u001b[0m \u001b[0mparent\u001b[0m\u001b[0;34m=\u001b[0m\u001b[0mparent\u001b[0m\u001b[0;34m,\u001b[0m \u001b[0mexpect_reply\u001b[0m\u001b[0;34m=\u001b[0m\u001b[0;32mTrue\u001b[0m\u001b[0;34m\u001b[0m\u001b[0;34m\u001b[0m\u001b[0m\n\u001b[1;32m    176\u001b[0m   )\n\u001b[0;32m--> 177\u001b[0;31m   \u001b[0;32mreturn\u001b[0m \u001b[0mread_reply_from_input\u001b[0m\u001b[0;34m(\u001b[0m\u001b[0mrequest_id\u001b[0m\u001b[0;34m,\u001b[0m \u001b[0mtimeout_sec\u001b[0m\u001b[0;34m)\u001b[0m\u001b[0;34m\u001b[0m\u001b[0;34m\u001b[0m\u001b[0m\n\u001b[0m",
            "\u001b[0;32m/usr/local/lib/python3.9/dist-packages/google/colab/_message.py\u001b[0m in \u001b[0;36mread_reply_from_input\u001b[0;34m(message_id, timeout_sec)\u001b[0m\n\u001b[1;32m    102\u001b[0m     ):\n\u001b[1;32m    103\u001b[0m       \u001b[0;32mif\u001b[0m \u001b[0;34m'error'\u001b[0m \u001b[0;32min\u001b[0m \u001b[0mreply\u001b[0m\u001b[0;34m:\u001b[0m\u001b[0;34m\u001b[0m\u001b[0;34m\u001b[0m\u001b[0m\n\u001b[0;32m--> 104\u001b[0;31m         \u001b[0;32mraise\u001b[0m \u001b[0mMessageError\u001b[0m\u001b[0;34m(\u001b[0m\u001b[0mreply\u001b[0m\u001b[0;34m[\u001b[0m\u001b[0;34m'error'\u001b[0m\u001b[0;34m]\u001b[0m\u001b[0;34m)\u001b[0m\u001b[0;34m\u001b[0m\u001b[0;34m\u001b[0m\u001b[0m\n\u001b[0m\u001b[1;32m    105\u001b[0m       \u001b[0;32mreturn\u001b[0m \u001b[0mreply\u001b[0m\u001b[0;34m.\u001b[0m\u001b[0mget\u001b[0m\u001b[0;34m(\u001b[0m\u001b[0;34m'data'\u001b[0m\u001b[0;34m,\u001b[0m \u001b[0;32mNone\u001b[0m\u001b[0;34m)\u001b[0m\u001b[0;34m\u001b[0m\u001b[0;34m\u001b[0m\u001b[0m\n\u001b[1;32m    106\u001b[0m \u001b[0;34m\u001b[0m\u001b[0m\n",
            "\u001b[0;31mMessageError\u001b[0m: Error: credential propagation was unsuccessful"
          ]
        }
      ]
    },
    {
      "cell_type": "code",
      "source": [
        "#contents of the file before any modifications\n",
        "file_path1 = \"/content/drive/MyDrive/NLP Assign/file1.txt\"\n",
        "\n",
        "with open(file_path1, \"r\") as file1:\n",
        "  print(file1.read())"
      ],
      "metadata": {
        "colab": {
          "base_uri": "https://localhost:8080/"
        },
        "id": "jI9PbFYq8RtD",
        "outputId": "bab8c143-fba0-4641-8452-ff48d1cc6f59"
      },
      "execution_count": null,
      "outputs": [
        {
          "output_type": "stream",
          "name": "stdout",
          "text": [
            "\n",
            "Project Gutenberg-tm depends upon and cannot survive without wide\n",
            "spread public support and donations to carry out its mission of\n",
            "increasing the number of public domain and licensed works that can be\n",
            "freely distributed in machine readable form accessible by the widest\n",
            "array of equipment including outdated equipment. Many small donations\n",
            "($1 to $5,000) are particularly important to maintaining tax exempt\n",
            "status with the IRS.\n",
            "\n",
            "The Foundation is committed to complying with the laws regulating\n",
            "charities and charitable donations in all 50 states of the United\n",
            "States. Compliance requirements are not uniform and it takes a\n",
            "considerable effort, much paperwork and many fees to meet and keep up\n",
            "with these requirements. We do not solicit donations in locations\n",
            "where we have not received written confirmation of compliance. To SEND\n",
            "DONATIONS or determine the status of compliance for any particular\n",
            "state visit www.gutenberg.org/donate\n",
            "\n",
            "While we cannot and do not solicit contributions from states where we\n",
            "have not met the solicitation requirements, we know of no prohibition\n",
            "against accepting unsolicited donations from donors in such states who\n",
            "approach us with offers to donate.\n",
            "\n",
            "International donations are gratefully accepted, but we cannot make\n",
            "any statements concerning tax treatment of donations received from\n",
            "outside the United States. U.S. laws alone swamp our small staff.\n",
            "\n",
            "Please check the Project Gutenberg Web pages for current donation\n",
            "methods and addresses. Donations are accepted in a number of other\n",
            "ways including checks, online payments and credit card donations. To\n",
            "donate, please visit: www.gutenberg.org/donate\n",
            "\n",
            "Section 5. General Information About Project Gutenberg-tm electronic works.\n",
            "\n",
            "Professor Michael S. Hart was the originator of the Project\n",
            "Gutenberg-tm concept of a library of electronic works that could be\n",
            "freely shared with anyone. For forty years, he produced and\n",
            "distributed Project Gutenberg-tm eBooks with only a loose network of\n",
            "volunteer support.\n",
            "\n",
            "Project Gutenberg-tm eBooks are often created from several printed\n",
            "editions, all of which are confirmed as not protected by copyright in\n",
            "the U.S. unless a copyright notice is included. Thus, we do not\n",
            "necessarily keep eBooks in compliance with any particular paper\n",
            "edition.\n",
            "\n",
            "Most people start at our Web site which has the main PG search\n",
            "facility: www.gutenberg.org\n",
            "\n",
            "This Web site includes information about Project Gutenberg-tm,\n",
            "including how to make donations to the Project Gutenberg Literary\n",
            "Archive Foundation, how to help produce our new eBooks, and how to\n",
            "subscribe to our email newsletter to hear about new eBooks.\n",
            "\n",
            "\n"
          ]
        }
      ]
    },
    {
      "cell_type": "markdown",
      "source": [
        "1. Read the text file\n",
        "2. Tokenize the text into words\n",
        "3. Remove stop words\n",
        "4. Printing to check\n",
        "5. Filter the words into a string\n",
        "6. Printing the text\n",
        "7. New file path to store the edited text, saving as newfile\n",
        "8. Printing to verify"
      ],
      "metadata": {
        "id": "leO_GUtc2WL1"
      }
    },
    {
      "cell_type": "code",
      "source": [
        "with open(file_path1, \"r\") as file1:\n",
        "  text1 = file1.read()\n",
        "\n",
        "words1 = nltk.word_tokenize(text1)\n",
        "\n",
        "stop_words1 = set(stopwords.words(\"english\"))\n",
        "filtered_words1 = [word for word in words1 if word.lower() not in stop_words1]\n",
        "\n",
        "print(filtered_words1)\n",
        "\n",
        "filtered_text1 = \" \".join(filtered_words1)\n",
        "\n",
        "print(filtered_text1)\n",
        "\n",
        "newfile_path1 = \"/content/drive/MyDrive/NLP Assign/newfile1.txt\"\n",
        "with open(newfile_path1, \"w\") as newfile1:\n",
        "    newfile1.write(filtered_text1)\n",
        "\n",
        "print(f\"{file_path1} processed and saved as {newfile_path1}\")\n",
        "\n",
        "with open(newfile_path1, 'r') as f:\n",
        "    print(f.read())"
      ],
      "metadata": {
        "colab": {
          "base_uri": "https://localhost:8080/"
        },
        "id": "pcTd2mLu8dZu",
        "outputId": "45ca759a-0618-41ac-a50b-e9d8d42ddeaa"
      },
      "execution_count": null,
      "outputs": [
        {
          "output_type": "stream",
          "name": "stdout",
          "text": [
            "['Project', 'Gutenberg-tm', 'depends', 'upon', 'survive', 'without', 'wide', 'spread', 'public', 'support', 'donations', 'carry', 'mission', 'increasing', 'number', 'public', 'domain', 'licensed', 'works', 'freely', 'distributed', 'machine', 'readable', 'form', 'accessible', 'widest', 'array', 'equipment', 'including', 'outdated', 'equipment', '.', 'Many', 'small', 'donations', '(', '$', '1', '$', '5,000', ')', 'particularly', 'important', 'maintaining', 'tax', 'exempt', 'status', 'IRS', '.', 'Foundation', 'committed', 'complying', 'laws', 'regulating', 'charities', 'charitable', 'donations', '50', 'states', 'United', 'States', '.', 'Compliance', 'requirements', 'uniform', 'takes', 'considerable', 'effort', ',', 'much', 'paperwork', 'many', 'fees', 'meet', 'keep', 'requirements', '.', 'solicit', 'donations', 'locations', 'received', 'written', 'confirmation', 'compliance', '.', 'SEND', 'DONATIONS', 'determine', 'status', 'compliance', 'particular', 'state', 'visit', 'www.gutenberg.org/donate', 'solicit', 'contributions', 'states', 'met', 'solicitation', 'requirements', ',', 'know', 'prohibition', 'accepting', 'unsolicited', 'donations', 'donors', 'states', 'approach', 'us', 'offers', 'donate', '.', 'International', 'donations', 'gratefully', 'accepted', ',', 'make', 'statements', 'concerning', 'tax', 'treatment', 'donations', 'received', 'outside', 'United', 'States', '.', 'U.S.', 'laws', 'alone', 'swamp', 'small', 'staff', '.', 'Please', 'check', 'Project', 'Gutenberg', 'Web', 'pages', 'current', 'donation', 'methods', 'addresses', '.', 'Donations', 'accepted', 'number', 'ways', 'including', 'checks', ',', 'online', 'payments', 'credit', 'card', 'donations', '.', 'donate', ',', 'please', 'visit', ':', 'www.gutenberg.org/donate', 'Section', '5', '.', 'General', 'Information', 'Project', 'Gutenberg-tm', 'electronic', 'works', '.', 'Professor', 'Michael', 'S.', 'Hart', 'originator', 'Project', 'Gutenberg-tm', 'concept', 'library', 'electronic', 'works', 'could', 'freely', 'shared', 'anyone', '.', 'forty', 'years', ',', 'produced', 'distributed', 'Project', 'Gutenberg-tm', 'eBooks', 'loose', 'network', 'volunteer', 'support', '.', 'Project', 'Gutenberg-tm', 'eBooks', 'often', 'created', 'several', 'printed', 'editions', ',', 'confirmed', 'protected', 'copyright', 'U.S.', 'unless', 'copyright', 'notice', 'included', '.', 'Thus', ',', 'necessarily', 'keep', 'eBooks', 'compliance', 'particular', 'paper', 'edition', '.', 'people', 'start', 'Web', 'site', 'main', 'PG', 'search', 'facility', ':', 'www.gutenberg.org', 'Web', 'site', 'includes', 'information', 'Project', 'Gutenberg-tm', ',', 'including', 'make', 'donations', 'Project', 'Gutenberg', 'Literary', 'Archive', 'Foundation', ',', 'help', 'produce', 'new', 'eBooks', ',', 'subscribe', 'email', 'newsletter', 'hear', 'new', 'eBooks', '.']\n",
            "Project Gutenberg-tm depends upon survive without wide spread public support donations carry mission increasing number public domain licensed works freely distributed machine readable form accessible widest array equipment including outdated equipment . Many small donations ( $ 1 $ 5,000 ) particularly important maintaining tax exempt status IRS . Foundation committed complying laws regulating charities charitable donations 50 states United States . Compliance requirements uniform takes considerable effort , much paperwork many fees meet keep requirements . solicit donations locations received written confirmation compliance . SEND DONATIONS determine status compliance particular state visit www.gutenberg.org/donate solicit contributions states met solicitation requirements , know prohibition accepting unsolicited donations donors states approach us offers donate . International donations gratefully accepted , make statements concerning tax treatment donations received outside United States . U.S. laws alone swamp small staff . Please check Project Gutenberg Web pages current donation methods addresses . Donations accepted number ways including checks , online payments credit card donations . donate , please visit : www.gutenberg.org/donate Section 5 . General Information Project Gutenberg-tm electronic works . Professor Michael S. Hart originator Project Gutenberg-tm concept library electronic works could freely shared anyone . forty years , produced distributed Project Gutenberg-tm eBooks loose network volunteer support . Project Gutenberg-tm eBooks often created several printed editions , confirmed protected copyright U.S. unless copyright notice included . Thus , necessarily keep eBooks compliance particular paper edition . people start Web site main PG search facility : www.gutenberg.org Web site includes information Project Gutenberg-tm , including make donations Project Gutenberg Literary Archive Foundation , help produce new eBooks , subscribe email newsletter hear new eBooks .\n",
            "/content/drive/MyDrive/NLP Assign/file1.txt processed and saved as /content/drive/MyDrive/NLP Assign/newfile1.txt\n",
            "Project Gutenberg-tm depends upon survive without wide spread public support donations carry mission increasing number public domain licensed works freely distributed machine readable form accessible widest array equipment including outdated equipment . Many small donations ( $ 1 $ 5,000 ) particularly important maintaining tax exempt status IRS . Foundation committed complying laws regulating charities charitable donations 50 states United States . Compliance requirements uniform takes considerable effort , much paperwork many fees meet keep requirements . solicit donations locations received written confirmation compliance . SEND DONATIONS determine status compliance particular state visit www.gutenberg.org/donate solicit contributions states met solicitation requirements , know prohibition accepting unsolicited donations donors states approach us offers donate . International donations gratefully accepted , make statements concerning tax treatment donations received outside United States . U.S. laws alone swamp small staff . Please check Project Gutenberg Web pages current donation methods addresses . Donations accepted number ways including checks , online payments credit card donations . donate , please visit : www.gutenberg.org/donate Section 5 . General Information Project Gutenberg-tm electronic works . Professor Michael S. Hart originator Project Gutenberg-tm concept library electronic works could freely shared anyone . forty years , produced distributed Project Gutenberg-tm eBooks loose network volunteer support . Project Gutenberg-tm eBooks often created several printed editions , confirmed protected copyright U.S. unless copyright notice included . Thus , necessarily keep eBooks compliance particular paper edition . people start Web site main PG search facility : www.gutenberg.org Web site includes information Project Gutenberg-tm , including make donations Project Gutenberg Literary Archive Foundation , help produce new eBooks , subscribe email newsletter hear new eBooks .\n"
          ]
        }
      ]
    },
    {
      "cell_type": "markdown",
      "source": [
        "Removing punctuations\n",
        "1. importing the package\n",
        "2. Read the new file\n",
        "3. All hte punctuation characters in a string\n",
        "4. Removing the punctuations from the tokens\n",
        "5. Join the tokens back into a string\n",
        "6. Store them in newfile, newfile now has the text without any stop words or punctuations."
      ],
      "metadata": {
        "id": "BYDwjzM321q-"
      }
    },
    {
      "cell_type": "code",
      "source": [
        "import string\n",
        "from nltk.tokenize import word_tokenize\n",
        "\n",
        "with open(newfile_path1, 'r') as f1:\n",
        "    sentence = f1.read()\n",
        "print(type(sentence))\n",
        "tokens = word_tokenize(sentence)\n",
        "\n",
        "punctuations = string.punctuation\n",
        "print(punctuations)\n",
        "\n",
        "filtered_tokens = [token.translate(str.maketrans('', '', punctuations)) for token in tokens]\n",
        "\n",
        "print(filtered_tokens)\n",
        "\n",
        "my_string = \" \".join(filtered_tokens)\n",
        "\n",
        "with open(newfile_path1, \"w\") as file:\n",
        "    file.write(my_string)\n",
        "print(my_string)"
      ],
      "metadata": {
        "colab": {
          "base_uri": "https://localhost:8080/"
        },
        "id": "C52K4XbTC9zI",
        "outputId": "68ac2f23-ae26-4b8e-9384-db862492e9bc"
      },
      "execution_count": null,
      "outputs": [
        {
          "output_type": "stream",
          "name": "stdout",
          "text": [
            "<class 'str'>\n",
            "!\"#$%&'()*+,-./:;<=>?@[\\]^_`{|}~\n",
            "['Project', 'Gutenbergtm', 'depends', 'upon', 'survive', 'without', 'wide', 'spread', 'public', 'support', 'donations', 'carry', 'mission', 'increasing', 'number', 'public', 'domain', 'licensed', 'works', 'freely', 'distributed', 'machine', 'readable', 'form', 'accessible', 'widest', 'array', 'equipment', 'including', 'outdated', 'equipment', '', 'Many', 'small', 'donations', '', '', '1', '', '5000', '', 'particularly', 'important', 'maintaining', 'tax', 'exempt', 'status', 'IRS', '', 'Foundation', 'committed', 'complying', 'laws', 'regulating', 'charities', 'charitable', 'donations', '50', 'states', 'United', 'States', '', 'Compliance', 'requirements', 'uniform', 'takes', 'considerable', 'effort', '', 'much', 'paperwork', 'many', 'fees', 'meet', 'keep', 'requirements', '', 'solicit', 'donations', 'locations', 'received', 'written', 'confirmation', 'compliance', '', 'SEND', 'DONATIONS', 'determine', 'status', 'compliance', 'particular', 'state', 'visit', 'wwwgutenbergorgdonate', 'solicit', 'contributions', 'states', 'met', 'solicitation', 'requirements', '', 'know', 'prohibition', 'accepting', 'unsolicited', 'donations', 'donors', 'states', 'approach', 'us', 'offers', 'donate', '', 'International', 'donations', 'gratefully', 'accepted', '', 'make', 'statements', 'concerning', 'tax', 'treatment', 'donations', 'received', 'outside', 'United', 'States', '', 'US', 'laws', 'alone', 'swamp', 'small', 'staff', '', 'Please', 'check', 'Project', 'Gutenberg', 'Web', 'pages', 'current', 'donation', 'methods', 'addresses', '', 'Donations', 'accepted', 'number', 'ways', 'including', 'checks', '', 'online', 'payments', 'credit', 'card', 'donations', '', 'donate', '', 'please', 'visit', '', 'wwwgutenbergorgdonate', 'Section', '5', '', 'General', 'Information', 'Project', 'Gutenbergtm', 'electronic', 'works', '', 'Professor', 'Michael', 'S', 'Hart', 'originator', 'Project', 'Gutenbergtm', 'concept', 'library', 'electronic', 'works', 'could', 'freely', 'shared', 'anyone', '', 'forty', 'years', '', 'produced', 'distributed', 'Project', 'Gutenbergtm', 'eBooks', 'loose', 'network', 'volunteer', 'support', '', 'Project', 'Gutenbergtm', 'eBooks', 'often', 'created', 'several', 'printed', 'editions', '', 'confirmed', 'protected', 'copyright', 'US', 'unless', 'copyright', 'notice', 'included', '', 'Thus', '', 'necessarily', 'keep', 'eBooks', 'compliance', 'particular', 'paper', 'edition', '', 'people', 'start', 'Web', 'site', 'main', 'PG', 'search', 'facility', '', 'wwwgutenbergorg', 'Web', 'site', 'includes', 'information', 'Project', 'Gutenbergtm', '', 'including', 'make', 'donations', 'Project', 'Gutenberg', 'Literary', 'Archive', 'Foundation', '', 'help', 'produce', 'new', 'eBooks', '', 'subscribe', 'email', 'newsletter', 'hear', 'new', 'eBooks', '']\n",
            "Project Gutenbergtm depends upon survive without wide spread public support donations carry mission increasing number public domain licensed works freely distributed machine readable form accessible widest array equipment including outdated equipment  Many small donations   1  5000  particularly important maintaining tax exempt status IRS  Foundation committed complying laws regulating charities charitable donations 50 states United States  Compliance requirements uniform takes considerable effort  much paperwork many fees meet keep requirements  solicit donations locations received written confirmation compliance  SEND DONATIONS determine status compliance particular state visit wwwgutenbergorgdonate solicit contributions states met solicitation requirements  know prohibition accepting unsolicited donations donors states approach us offers donate  International donations gratefully accepted  make statements concerning tax treatment donations received outside United States  US laws alone swamp small staff  Please check Project Gutenberg Web pages current donation methods addresses  Donations accepted number ways including checks  online payments credit card donations  donate  please visit  wwwgutenbergorgdonate Section 5  General Information Project Gutenbergtm electronic works  Professor Michael S Hart originator Project Gutenbergtm concept library electronic works could freely shared anyone  forty years  produced distributed Project Gutenbergtm eBooks loose network volunteer support  Project Gutenbergtm eBooks often created several printed editions  confirmed protected copyright US unless copyright notice included  Thus  necessarily keep eBooks compliance particular paper edition  people start Web site main PG search facility  wwwgutenbergorg Web site includes information Project Gutenbergtm  including make donations Project Gutenberg Literary Archive Foundation  help produce new eBooks  subscribe email newsletter hear new eBooks \n"
          ]
        }
      ]
    },
    {
      "cell_type": "code",
      "source": [
        "with open(newfile_path1, 'r') as f1:\n",
        "    print(f1.read())"
      ],
      "metadata": {
        "colab": {
          "base_uri": "https://localhost:8080/"
        },
        "id": "ssQKDAacDHN7",
        "outputId": "2e605a62-1675-4534-e656-c49e439330ff"
      },
      "execution_count": null,
      "outputs": [
        {
          "output_type": "stream",
          "name": "stdout",
          "text": [
            "Project Gutenbergtm depends upon survive without wide spread public support donations carry mission increasing number public domain licensed works freely distributed machine readable form accessible widest array equipment including outdated equipment  Many small donations   1  5000  particularly important maintaining tax exempt status IRS  Foundation committed complying laws regulating charities charitable donations 50 states United States  Compliance requirements uniform takes considerable effort  much paperwork many fees meet keep requirements  solicit donations locations received written confirmation compliance  SEND DONATIONS determine status compliance particular state visit wwwgutenbergorgdonate solicit contributions states met solicitation requirements  know prohibition accepting unsolicited donations donors states approach us offers donate  International donations gratefully accepted  make statements concerning tax treatment donations received outside United States  US laws alone swamp small staff  Please check Project Gutenberg Web pages current donation methods addresses  Donations accepted number ways including checks  online payments credit card donations  donate  please visit  wwwgutenbergorgdonate Section 5  General Information Project Gutenbergtm electronic works  Professor Michael S Hart originator Project Gutenbergtm concept library electronic works could freely shared anyone  forty years  produced distributed Project Gutenbergtm eBooks loose network volunteer support  Project Gutenbergtm eBooks often created several printed editions  confirmed protected copyright US unless copyright notice included  Thus  necessarily keep eBooks compliance particular paper edition  people start Web site main PG search facility  wwwgutenbergorg Web site includes information Project Gutenbergtm  including make donations Project Gutenberg Literary Archive Foundation  help produce new eBooks  subscribe email newsletter hear new eBooks \n"
          ]
        }
      ]
    },
    {
      "cell_type": "markdown",
      "source": [
        "All the same steps were followed for the second file as the first one."
      ],
      "metadata": {
        "id": "r4ZL72QR3gsw"
      }
    },
    {
      "cell_type": "code",
      "source": [
        "# Define path to text file\n",
        "file_path2 = \"/content/drive/MyDrive/NLP Assign/file2.txt\"\n",
        "\n",
        "# Read in text file\n",
        "with open(file_path2, \"r\") as file2:\n",
        "  print(file2.read())"
      ],
      "metadata": {
        "colab": {
          "base_uri": "https://localhost:8080/"
        },
        "id": "6RWWybFZ8ffS",
        "outputId": "9413cbd8-01c8-430f-a11e-9b618d16950a"
      },
      "execution_count": null,
      "outputs": [
        {
          "output_type": "stream",
          "name": "stdout",
          "text": [
            "random words that i will add so that i can check the percent okay cool Project Gutenberg-tm depends upon and cannot survive without wide\n",
            "spread public support and donations to carry out its mission of\n",
            "increasing the number of public domain and licensed works that can be\n",
            "freely distributed in machine readable form accessible by the widest\n",
            "array of equipment including outdated equipment. Many small donations\n",
            "($1 to $5,000) are particularly important to maintaining tax exempt\n",
            "status with the IRS.\n",
            "\n",
            "\n",
            "While we cannot and do not solicit contributions from states where we\n",
            "have not met the solicitation requirements, we know of no prohibition\n",
            "against accepting unsolicited donations from donors in such states who\n",
            "approach us with offers to donate.\n",
            "\n",
            "International donations are gratefully accepted, but we cannot make\n",
            "any statements concerning tax treatment of donations received from\n",
            "outside the United States. U.S. laws alone swamp our small staff.\n",
            "\n",
            "Please check the Project Gutenberg Web pages for current donation\n",
            "methods and addresses. Donations are accepted in a number of other\n",
            "ways including checks, online payments and credit card donations. To\n",
            "donate, please visit: www.gutenberg.org/donate\n",
            "\n",
            "Section 5. General Information About Project Gutenberg-tm electronic works.\n",
            "\n",
            "Professor Michael S. Hart was the originator of the Project\n",
            "Gutenberg-tm concept of a library of electronic works that could be\n",
            "freely shared with anyone. For forty years, he produced and\n",
            "distributed Project Gutenberg-tm eBooks with only a loose network of\n",
            "volunteer support.\n",
            "\n",
            "Project Gutenberg-tm eBooks are often created from several printed\n",
            "editions, all of which are confirmed as not protected by copyright in\n",
            "the U.S. unless a copyright notice is included. Thus, we do not\n",
            "necessarily keep eBooks in compliance with any particular paper\n",
            "edition.\n",
            "\n",
            "Most people start at our Web site which has the main PG search\n",
            "facility: www.gutenberg.org\n",
            "\n",
            "This Web site includes information about Project Gutenberg-tm,\n",
            "including how to make donations to the Project Gutenberg Literary\n",
            "Archive Foundation, how to help produce our new eBooks, and how to\n",
            "subscribe to our email newsletter to hear about new eBooks.\n"
          ]
        }
      ]
    },
    {
      "cell_type": "code",
      "source": [
        "with open(file_path2, \"r\") as file2:\n",
        "  text2 = file2.read()\n",
        "\n",
        "words2 = nltk.word_tokenize(text2)\n",
        "\n",
        "stop_words2 = set(stopwords.words(\"english\"))\n",
        "filtered_words2 = [word for word in words2 if word.lower() not in stop_words2]\n",
        "\n",
        "print(filtered_words2)\n",
        "\n",
        "filtered_text2 = \" \".join(filtered_words2)\n",
        "\n",
        "print(filtered_text2)\n",
        "# with open(file_path2, 'r') as f:\n",
        "#     print(f.read())\n",
        "\n",
        "newfile_path2 = \"/content/drive/MyDrive/NLP Assign/newfile2.txt\"\n",
        "with open(newfile_path2, \"w\") as newfile2:\n",
        "    newfile2.write(filtered_text2)\n",
        "\n",
        "print(f\"{file_path2} processed and saved as {newfile_path2}\")\n",
        "\n",
        "with open(newfile_path2, 'r') as f2:\n",
        "    print(f2.read())\n"
      ],
      "metadata": {
        "colab": {
          "base_uri": "https://localhost:8080/"
        },
        "id": "itg25-zb9yb8",
        "outputId": "a2a17081-df11-462c-a297-f6ccc9ba1250"
      },
      "execution_count": null,
      "outputs": [
        {
          "output_type": "stream",
          "name": "stdout",
          "text": [
            "['random', 'words', 'add', 'check', 'percent', 'okay', 'cool', 'Project', 'Gutenberg-tm', 'depends', 'upon', 'survive', 'without', 'wide', 'spread', 'public', 'support', 'donations', 'carry', 'mission', 'increasing', 'number', 'public', 'domain', 'licensed', 'works', 'freely', 'distributed', 'machine', 'readable', 'form', 'accessible', 'widest', 'array', 'equipment', 'including', 'outdated', 'equipment', '.', 'Many', 'small', 'donations', '(', '$', '1', '$', '5,000', ')', 'particularly', 'important', 'maintaining', 'tax', 'exempt', 'status', 'IRS', '.', 'solicit', 'contributions', 'states', 'met', 'solicitation', 'requirements', ',', 'know', 'prohibition', 'accepting', 'unsolicited', 'donations', 'donors', 'states', 'approach', 'us', 'offers', 'donate', '.', 'International', 'donations', 'gratefully', 'accepted', ',', 'make', 'statements', 'concerning', 'tax', 'treatment', 'donations', 'received', 'outside', 'United', 'States', '.', 'U.S.', 'laws', 'alone', 'swamp', 'small', 'staff', '.', 'Please', 'check', 'Project', 'Gutenberg', 'Web', 'pages', 'current', 'donation', 'methods', 'addresses', '.', 'Donations', 'accepted', 'number', 'ways', 'including', 'checks', ',', 'online', 'payments', 'credit', 'card', 'donations', '.', 'donate', ',', 'please', 'visit', ':', 'www.gutenberg.org/donate', 'Section', '5', '.', 'General', 'Information', 'Project', 'Gutenberg-tm', 'electronic', 'works', '.', 'Professor', 'Michael', 'S.', 'Hart', 'originator', 'Project', 'Gutenberg-tm', 'concept', 'library', 'electronic', 'works', 'could', 'freely', 'shared', 'anyone', '.', 'forty', 'years', ',', 'produced', 'distributed', 'Project', 'Gutenberg-tm', 'eBooks', 'loose', 'network', 'volunteer', 'support', '.', 'Project', 'Gutenberg-tm', 'eBooks', 'often', 'created', 'several', 'printed', 'editions', ',', 'confirmed', 'protected', 'copyright', 'U.S.', 'unless', 'copyright', 'notice', 'included', '.', 'Thus', ',', 'necessarily', 'keep', 'eBooks', 'compliance', 'particular', 'paper', 'edition', '.', 'people', 'start', 'Web', 'site', 'main', 'PG', 'search', 'facility', ':', 'www.gutenberg.org', 'Web', 'site', 'includes', 'information', 'Project', 'Gutenberg-tm', ',', 'including', 'make', 'donations', 'Project', 'Gutenberg', 'Literary', 'Archive', 'Foundation', ',', 'help', 'produce', 'new', 'eBooks', ',', 'subscribe', 'email', 'newsletter', 'hear', 'new', 'eBooks', '.']\n",
            "random words add check percent okay cool Project Gutenberg-tm depends upon survive without wide spread public support donations carry mission increasing number public domain licensed works freely distributed machine readable form accessible widest array equipment including outdated equipment . Many small donations ( $ 1 $ 5,000 ) particularly important maintaining tax exempt status IRS . solicit contributions states met solicitation requirements , know prohibition accepting unsolicited donations donors states approach us offers donate . International donations gratefully accepted , make statements concerning tax treatment donations received outside United States . U.S. laws alone swamp small staff . Please check Project Gutenberg Web pages current donation methods addresses . Donations accepted number ways including checks , online payments credit card donations . donate , please visit : www.gutenberg.org/donate Section 5 . General Information Project Gutenberg-tm electronic works . Professor Michael S. Hart originator Project Gutenberg-tm concept library electronic works could freely shared anyone . forty years , produced distributed Project Gutenberg-tm eBooks loose network volunteer support . Project Gutenberg-tm eBooks often created several printed editions , confirmed protected copyright U.S. unless copyright notice included . Thus , necessarily keep eBooks compliance particular paper edition . people start Web site main PG search facility : www.gutenberg.org Web site includes information Project Gutenberg-tm , including make donations Project Gutenberg Literary Archive Foundation , help produce new eBooks , subscribe email newsletter hear new eBooks .\n",
            "/content/drive/MyDrive/NLP Assign/file2.txt processed and saved as /content/drive/MyDrive/NLP Assign/newfile2.txt\n",
            "random words add check percent okay cool Project Gutenberg-tm depends upon survive without wide spread public support donations carry mission increasing number public domain licensed works freely distributed machine readable form accessible widest array equipment including outdated equipment . Many small donations ( $ 1 $ 5,000 ) particularly important maintaining tax exempt status IRS . solicit contributions states met solicitation requirements , know prohibition accepting unsolicited donations donors states approach us offers donate . International donations gratefully accepted , make statements concerning tax treatment donations received outside United States . U.S. laws alone swamp small staff . Please check Project Gutenberg Web pages current donation methods addresses . Donations accepted number ways including checks , online payments credit card donations . donate , please visit : www.gutenberg.org/donate Section 5 . General Information Project Gutenberg-tm electronic works . Professor Michael S. Hart originator Project Gutenberg-tm concept library electronic works could freely shared anyone . forty years , produced distributed Project Gutenberg-tm eBooks loose network volunteer support . Project Gutenberg-tm eBooks often created several printed editions , confirmed protected copyright U.S. unless copyright notice included . Thus , necessarily keep eBooks compliance particular paper edition . people start Web site main PG search facility : www.gutenberg.org Web site includes information Project Gutenberg-tm , including make donations Project Gutenberg Literary Archive Foundation , help produce new eBooks , subscribe email newsletter hear new eBooks .\n"
          ]
        }
      ]
    },
    {
      "cell_type": "code",
      "source": [
        "import string\n",
        "from nltk.tokenize import word_tokenize\n",
        "\n",
        "with open(newfile_path2, 'r') as f2:\n",
        "    sentence = f2.read()\n",
        "print(type(sentence))\n",
        "tokens = word_tokenize(sentence)\n",
        "\n",
        "punctuations = string.punctuation\n",
        "print(punctuations)\n",
        "\n",
        "filtered_tokens = [token.translate(str.maketrans('', '', punctuations)) for token in tokens]\n",
        "print(filtered_tokens)\n",
        "\n",
        "my_string = \" \".join(filtered_tokens)\n",
        "\n",
        "with open(newfile_path2, \"w\") as file:\n",
        "    file.write(my_string)\n",
        "print(my_string)"
      ],
      "metadata": {
        "colab": {
          "base_uri": "https://localhost:8080/"
        },
        "id": "qUPRJfwt_jHD",
        "outputId": "33d0d762-c4e8-4ff9-a540-38fbb1497895"
      },
      "execution_count": null,
      "outputs": [
        {
          "output_type": "stream",
          "name": "stdout",
          "text": [
            "<class 'str'>\n",
            "!\"#$%&'()*+,-./:;<=>?@[\\]^_`{|}~\n",
            "['random', 'words', 'add', 'check', 'percent', 'okay', 'cool', 'Project', 'Gutenbergtm', 'depends', 'upon', 'survive', 'without', 'wide', 'spread', 'public', 'support', 'donations', 'carry', 'mission', 'increasing', 'number', 'public', 'domain', 'licensed', 'works', 'freely', 'distributed', 'machine', 'readable', 'form', 'accessible', 'widest', 'array', 'equipment', 'including', 'outdated', 'equipment', '', 'Many', 'small', 'donations', '', '', '1', '', '5000', '', 'particularly', 'important', 'maintaining', 'tax', 'exempt', 'status', 'IRS', '', 'solicit', 'contributions', 'states', 'met', 'solicitation', 'requirements', '', 'know', 'prohibition', 'accepting', 'unsolicited', 'donations', 'donors', 'states', 'approach', 'us', 'offers', 'donate', '', 'International', 'donations', 'gratefully', 'accepted', '', 'make', 'statements', 'concerning', 'tax', 'treatment', 'donations', 'received', 'outside', 'United', 'States', '', 'US', 'laws', 'alone', 'swamp', 'small', 'staff', '', 'Please', 'check', 'Project', 'Gutenberg', 'Web', 'pages', 'current', 'donation', 'methods', 'addresses', '', 'Donations', 'accepted', 'number', 'ways', 'including', 'checks', '', 'online', 'payments', 'credit', 'card', 'donations', '', 'donate', '', 'please', 'visit', '', 'wwwgutenbergorgdonate', 'Section', '5', '', 'General', 'Information', 'Project', 'Gutenbergtm', 'electronic', 'works', '', 'Professor', 'Michael', 'S', 'Hart', 'originator', 'Project', 'Gutenbergtm', 'concept', 'library', 'electronic', 'works', 'could', 'freely', 'shared', 'anyone', '', 'forty', 'years', '', 'produced', 'distributed', 'Project', 'Gutenbergtm', 'eBooks', 'loose', 'network', 'volunteer', 'support', '', 'Project', 'Gutenbergtm', 'eBooks', 'often', 'created', 'several', 'printed', 'editions', '', 'confirmed', 'protected', 'copyright', 'US', 'unless', 'copyright', 'notice', 'included', '', 'Thus', '', 'necessarily', 'keep', 'eBooks', 'compliance', 'particular', 'paper', 'edition', '', 'people', 'start', 'Web', 'site', 'main', 'PG', 'search', 'facility', '', 'wwwgutenbergorg', 'Web', 'site', 'includes', 'information', 'Project', 'Gutenbergtm', '', 'including', 'make', 'donations', 'Project', 'Gutenberg', 'Literary', 'Archive', 'Foundation', '', 'help', 'produce', 'new', 'eBooks', '', 'subscribe', 'email', 'newsletter', 'hear', 'new', 'eBooks', '']\n",
            "random words add check percent okay cool Project Gutenbergtm depends upon survive without wide spread public support donations carry mission increasing number public domain licensed works freely distributed machine readable form accessible widest array equipment including outdated equipment  Many small donations   1  5000  particularly important maintaining tax exempt status IRS  solicit contributions states met solicitation requirements  know prohibition accepting unsolicited donations donors states approach us offers donate  International donations gratefully accepted  make statements concerning tax treatment donations received outside United States  US laws alone swamp small staff  Please check Project Gutenberg Web pages current donation methods addresses  Donations accepted number ways including checks  online payments credit card donations  donate  please visit  wwwgutenbergorgdonate Section 5  General Information Project Gutenbergtm electronic works  Professor Michael S Hart originator Project Gutenbergtm concept library electronic works could freely shared anyone  forty years  produced distributed Project Gutenbergtm eBooks loose network volunteer support  Project Gutenbergtm eBooks often created several printed editions  confirmed protected copyright US unless copyright notice included  Thus  necessarily keep eBooks compliance particular paper edition  people start Web site main PG search facility  wwwgutenbergorg Web site includes information Project Gutenbergtm  including make donations Project Gutenberg Literary Archive Foundation  help produce new eBooks  subscribe email newsletter hear new eBooks \n"
          ]
        }
      ]
    },
    {
      "cell_type": "code",
      "source": [
        "with open(newfile_path2, 'r') as f2:\n",
        "    print(f2.read())"
      ],
      "metadata": {
        "colab": {
          "base_uri": "https://localhost:8080/"
        },
        "id": "corvsWRGCUqq",
        "outputId": "d785d50a-4279-4d02-a0f6-169c622f7bd4"
      },
      "execution_count": null,
      "outputs": [
        {
          "output_type": "stream",
          "name": "stdout",
          "text": [
            "random words add check percent okay cool Project Gutenbergtm depends upon survive without wide spread public support donations carry mission increasing number public domain licensed works freely distributed machine readable form accessible widest array equipment including outdated equipment  Many small donations   1  5000  particularly important maintaining tax exempt status IRS  solicit contributions states met solicitation requirements  know prohibition accepting unsolicited donations donors states approach us offers donate  International donations gratefully accepted  make statements concerning tax treatment donations received outside United States  US laws alone swamp small staff  Please check Project Gutenberg Web pages current donation methods addresses  Donations accepted number ways including checks  online payments credit card donations  donate  please visit  wwwgutenbergorgdonate Section 5  General Information Project Gutenbergtm electronic works  Professor Michael S Hart originator Project Gutenbergtm concept library electronic works could freely shared anyone  forty years  produced distributed Project Gutenbergtm eBooks loose network volunteer support  Project Gutenbergtm eBooks often created several printed editions  confirmed protected copyright US unless copyright notice included  Thus  necessarily keep eBooks compliance particular paper edition  people start Web site main PG search facility  wwwgutenbergorg Web site includes information Project Gutenbergtm  including make donations Project Gutenberg Literary Archive Foundation  help produce new eBooks  subscribe email newsletter hear new eBooks \n"
          ]
        }
      ]
    },
    {
      "cell_type": "markdown",
      "source": [
        "**Finding the n grams**\n",
        "1. Read the newfile, using ngrams nltk library we find out the trigrams\n",
        "2. Printing the ngrams\n",
        "3. The count of the ngrams that were formed from the text"
      ],
      "metadata": {
        "id": "1KAFlc6P31Ds"
      }
    },
    {
      "cell_type": "code",
      "source": [
        "from nltk.util import ngrams\n",
        "\n",
        "newfile_path1 = \"/content/drive/MyDrive/NLP Assign/newfile1.txt\"\n",
        "with open(newfile_path1, 'r') as f1:\n",
        "    input1 = f1.read()\n",
        "\n",
        "tokens1 = nltk.word_tokenize(input1)\n",
        "n_grams1 = list(ngrams(tokens1, 3))\n",
        "\n",
        "print(n_grams1)\n",
        "print(len(n_grams1))"
      ],
      "metadata": {
        "colab": {
          "base_uri": "https://localhost:8080/"
        },
        "id": "rF7w0mlhDyeg",
        "outputId": "07f8822a-07ef-4bd0-fc0e-5c0ca18e0ca9"
      },
      "execution_count": null,
      "outputs": [
        {
          "output_type": "stream",
          "name": "stdout",
          "text": [
            "[('Project', 'Gutenbergtm', 'depends'), ('Gutenbergtm', 'depends', 'upon'), ('depends', 'upon', 'survive'), ('upon', 'survive', 'without'), ('survive', 'without', 'wide'), ('without', 'wide', 'spread'), ('wide', 'spread', 'public'), ('spread', 'public', 'support'), ('public', 'support', 'donations'), ('support', 'donations', 'carry'), ('donations', 'carry', 'mission'), ('carry', 'mission', 'increasing'), ('mission', 'increasing', 'number'), ('increasing', 'number', 'public'), ('number', 'public', 'domain'), ('public', 'domain', 'licensed'), ('domain', 'licensed', 'works'), ('licensed', 'works', 'freely'), ('works', 'freely', 'distributed'), ('freely', 'distributed', 'machine'), ('distributed', 'machine', 'readable'), ('machine', 'readable', 'form'), ('readable', 'form', 'accessible'), ('form', 'accessible', 'widest'), ('accessible', 'widest', 'array'), ('widest', 'array', 'equipment'), ('array', 'equipment', 'including'), ('equipment', 'including', 'outdated'), ('including', 'outdated', 'equipment'), ('outdated', 'equipment', 'Many'), ('equipment', 'Many', 'small'), ('Many', 'small', 'donations'), ('small', 'donations', '1'), ('donations', '1', '5000'), ('1', '5000', 'particularly'), ('5000', 'particularly', 'important'), ('particularly', 'important', 'maintaining'), ('important', 'maintaining', 'tax'), ('maintaining', 'tax', 'exempt'), ('tax', 'exempt', 'status'), ('exempt', 'status', 'IRS'), ('status', 'IRS', 'Foundation'), ('IRS', 'Foundation', 'committed'), ('Foundation', 'committed', 'complying'), ('committed', 'complying', 'laws'), ('complying', 'laws', 'regulating'), ('laws', 'regulating', 'charities'), ('regulating', 'charities', 'charitable'), ('charities', 'charitable', 'donations'), ('charitable', 'donations', '50'), ('donations', '50', 'states'), ('50', 'states', 'United'), ('states', 'United', 'States'), ('United', 'States', 'Compliance'), ('States', 'Compliance', 'requirements'), ('Compliance', 'requirements', 'uniform'), ('requirements', 'uniform', 'takes'), ('uniform', 'takes', 'considerable'), ('takes', 'considerable', 'effort'), ('considerable', 'effort', 'much'), ('effort', 'much', 'paperwork'), ('much', 'paperwork', 'many'), ('paperwork', 'many', 'fees'), ('many', 'fees', 'meet'), ('fees', 'meet', 'keep'), ('meet', 'keep', 'requirements'), ('keep', 'requirements', 'solicit'), ('requirements', 'solicit', 'donations'), ('solicit', 'donations', 'locations'), ('donations', 'locations', 'received'), ('locations', 'received', 'written'), ('received', 'written', 'confirmation'), ('written', 'confirmation', 'compliance'), ('confirmation', 'compliance', 'SEND'), ('compliance', 'SEND', 'DONATIONS'), ('SEND', 'DONATIONS', 'determine'), ('DONATIONS', 'determine', 'status'), ('determine', 'status', 'compliance'), ('status', 'compliance', 'particular'), ('compliance', 'particular', 'state'), ('particular', 'state', 'visit'), ('state', 'visit', 'wwwgutenbergorgdonate'), ('visit', 'wwwgutenbergorgdonate', 'solicit'), ('wwwgutenbergorgdonate', 'solicit', 'contributions'), ('solicit', 'contributions', 'states'), ('contributions', 'states', 'met'), ('states', 'met', 'solicitation'), ('met', 'solicitation', 'requirements'), ('solicitation', 'requirements', 'know'), ('requirements', 'know', 'prohibition'), ('know', 'prohibition', 'accepting'), ('prohibition', 'accepting', 'unsolicited'), ('accepting', 'unsolicited', 'donations'), ('unsolicited', 'donations', 'donors'), ('donations', 'donors', 'states'), ('donors', 'states', 'approach'), ('states', 'approach', 'us'), ('approach', 'us', 'offers'), ('us', 'offers', 'donate'), ('offers', 'donate', 'International'), ('donate', 'International', 'donations'), ('International', 'donations', 'gratefully'), ('donations', 'gratefully', 'accepted'), ('gratefully', 'accepted', 'make'), ('accepted', 'make', 'statements'), ('make', 'statements', 'concerning'), ('statements', 'concerning', 'tax'), ('concerning', 'tax', 'treatment'), ('tax', 'treatment', 'donations'), ('treatment', 'donations', 'received'), ('donations', 'received', 'outside'), ('received', 'outside', 'United'), ('outside', 'United', 'States'), ('United', 'States', 'US'), ('States', 'US', 'laws'), ('US', 'laws', 'alone'), ('laws', 'alone', 'swamp'), ('alone', 'swamp', 'small'), ('swamp', 'small', 'staff'), ('small', 'staff', 'Please'), ('staff', 'Please', 'check'), ('Please', 'check', 'Project'), ('check', 'Project', 'Gutenberg'), ('Project', 'Gutenberg', 'Web'), ('Gutenberg', 'Web', 'pages'), ('Web', 'pages', 'current'), ('pages', 'current', 'donation'), ('current', 'donation', 'methods'), ('donation', 'methods', 'addresses'), ('methods', 'addresses', 'Donations'), ('addresses', 'Donations', 'accepted'), ('Donations', 'accepted', 'number'), ('accepted', 'number', 'ways'), ('number', 'ways', 'including'), ('ways', 'including', 'checks'), ('including', 'checks', 'online'), ('checks', 'online', 'payments'), ('online', 'payments', 'credit'), ('payments', 'credit', 'card'), ('credit', 'card', 'donations'), ('card', 'donations', 'donate'), ('donations', 'donate', 'please'), ('donate', 'please', 'visit'), ('please', 'visit', 'wwwgutenbergorgdonate'), ('visit', 'wwwgutenbergorgdonate', 'Section'), ('wwwgutenbergorgdonate', 'Section', '5'), ('Section', '5', 'General'), ('5', 'General', 'Information'), ('General', 'Information', 'Project'), ('Information', 'Project', 'Gutenbergtm'), ('Project', 'Gutenbergtm', 'electronic'), ('Gutenbergtm', 'electronic', 'works'), ('electronic', 'works', 'Professor'), ('works', 'Professor', 'Michael'), ('Professor', 'Michael', 'S'), ('Michael', 'S', 'Hart'), ('S', 'Hart', 'originator'), ('Hart', 'originator', 'Project'), ('originator', 'Project', 'Gutenbergtm'), ('Project', 'Gutenbergtm', 'concept'), ('Gutenbergtm', 'concept', 'library'), ('concept', 'library', 'electronic'), ('library', 'electronic', 'works'), ('electronic', 'works', 'could'), ('works', 'could', 'freely'), ('could', 'freely', 'shared'), ('freely', 'shared', 'anyone'), ('shared', 'anyone', 'forty'), ('anyone', 'forty', 'years'), ('forty', 'years', 'produced'), ('years', 'produced', 'distributed'), ('produced', 'distributed', 'Project'), ('distributed', 'Project', 'Gutenbergtm'), ('Project', 'Gutenbergtm', 'eBooks'), ('Gutenbergtm', 'eBooks', 'loose'), ('eBooks', 'loose', 'network'), ('loose', 'network', 'volunteer'), ('network', 'volunteer', 'support'), ('volunteer', 'support', 'Project'), ('support', 'Project', 'Gutenbergtm'), ('Project', 'Gutenbergtm', 'eBooks'), ('Gutenbergtm', 'eBooks', 'often'), ('eBooks', 'often', 'created'), ('often', 'created', 'several'), ('created', 'several', 'printed'), ('several', 'printed', 'editions'), ('printed', 'editions', 'confirmed'), ('editions', 'confirmed', 'protected'), ('confirmed', 'protected', 'copyright'), ('protected', 'copyright', 'US'), ('copyright', 'US', 'unless'), ('US', 'unless', 'copyright'), ('unless', 'copyright', 'notice'), ('copyright', 'notice', 'included'), ('notice', 'included', 'Thus'), ('included', 'Thus', 'necessarily'), ('Thus', 'necessarily', 'keep'), ('necessarily', 'keep', 'eBooks'), ('keep', 'eBooks', 'compliance'), ('eBooks', 'compliance', 'particular'), ('compliance', 'particular', 'paper'), ('particular', 'paper', 'edition'), ('paper', 'edition', 'people'), ('edition', 'people', 'start'), ('people', 'start', 'Web'), ('start', 'Web', 'site'), ('Web', 'site', 'main'), ('site', 'main', 'PG'), ('main', 'PG', 'search'), ('PG', 'search', 'facility'), ('search', 'facility', 'wwwgutenbergorg'), ('facility', 'wwwgutenbergorg', 'Web'), ('wwwgutenbergorg', 'Web', 'site'), ('Web', 'site', 'includes'), ('site', 'includes', 'information'), ('includes', 'information', 'Project'), ('information', 'Project', 'Gutenbergtm'), ('Project', 'Gutenbergtm', 'including'), ('Gutenbergtm', 'including', 'make'), ('including', 'make', 'donations'), ('make', 'donations', 'Project'), ('donations', 'Project', 'Gutenberg'), ('Project', 'Gutenberg', 'Literary'), ('Gutenberg', 'Literary', 'Archive'), ('Literary', 'Archive', 'Foundation'), ('Archive', 'Foundation', 'help'), ('Foundation', 'help', 'produce'), ('help', 'produce', 'new'), ('produce', 'new', 'eBooks'), ('new', 'eBooks', 'subscribe'), ('eBooks', 'subscribe', 'email'), ('subscribe', 'email', 'newsletter'), ('email', 'newsletter', 'hear'), ('newsletter', 'hear', 'new'), ('hear', 'new', 'eBooks')]\n",
            "235\n"
          ]
        }
      ]
    },
    {
      "cell_type": "code",
      "source": [
        "from nltk.util import ngrams\n",
        "\n",
        "newfile_path2 = \"/content/drive/MyDrive/NLP Assign/newfile2.txt\"\n",
        "with open(newfile_path2, 'r') as f2:\n",
        "    input2 = f2.read()\n",
        "\n",
        "tokens2 = nltk.word_tokenize(input2)\n",
        "n_grams2 = list(ngrams(tokens2, 3))\n",
        "\n",
        "print(n_grams2)\n",
        "print(len(n_grams2))"
      ],
      "metadata": {
        "id": "D8xehfV3-0xd",
        "colab": {
          "base_uri": "https://localhost:8080/"
        },
        "outputId": "7acdc31b-6f1b-41a7-9569-353b73ed8f5c"
      },
      "execution_count": null,
      "outputs": [
        {
          "output_type": "stream",
          "name": "stdout",
          "text": [
            "[('random', 'words', 'add'), ('words', 'add', 'check'), ('add', 'check', 'percent'), ('check', 'percent', 'okay'), ('percent', 'okay', 'cool'), ('okay', 'cool', 'Project'), ('cool', 'Project', 'Gutenbergtm'), ('Project', 'Gutenbergtm', 'depends'), ('Gutenbergtm', 'depends', 'upon'), ('depends', 'upon', 'survive'), ('upon', 'survive', 'without'), ('survive', 'without', 'wide'), ('without', 'wide', 'spread'), ('wide', 'spread', 'public'), ('spread', 'public', 'support'), ('public', 'support', 'donations'), ('support', 'donations', 'carry'), ('donations', 'carry', 'mission'), ('carry', 'mission', 'increasing'), ('mission', 'increasing', 'number'), ('increasing', 'number', 'public'), ('number', 'public', 'domain'), ('public', 'domain', 'licensed'), ('domain', 'licensed', 'works'), ('licensed', 'works', 'freely'), ('works', 'freely', 'distributed'), ('freely', 'distributed', 'machine'), ('distributed', 'machine', 'readable'), ('machine', 'readable', 'form'), ('readable', 'form', 'accessible'), ('form', 'accessible', 'widest'), ('accessible', 'widest', 'array'), ('widest', 'array', 'equipment'), ('array', 'equipment', 'including'), ('equipment', 'including', 'outdated'), ('including', 'outdated', 'equipment'), ('outdated', 'equipment', 'Many'), ('equipment', 'Many', 'small'), ('Many', 'small', 'donations'), ('small', 'donations', '1'), ('donations', '1', '5000'), ('1', '5000', 'particularly'), ('5000', 'particularly', 'important'), ('particularly', 'important', 'maintaining'), ('important', 'maintaining', 'tax'), ('maintaining', 'tax', 'exempt'), ('tax', 'exempt', 'status'), ('exempt', 'status', 'IRS'), ('status', 'IRS', 'solicit'), ('IRS', 'solicit', 'contributions'), ('solicit', 'contributions', 'states'), ('contributions', 'states', 'met'), ('states', 'met', 'solicitation'), ('met', 'solicitation', 'requirements'), ('solicitation', 'requirements', 'know'), ('requirements', 'know', 'prohibition'), ('know', 'prohibition', 'accepting'), ('prohibition', 'accepting', 'unsolicited'), ('accepting', 'unsolicited', 'donations'), ('unsolicited', 'donations', 'donors'), ('donations', 'donors', 'states'), ('donors', 'states', 'approach'), ('states', 'approach', 'us'), ('approach', 'us', 'offers'), ('us', 'offers', 'donate'), ('offers', 'donate', 'International'), ('donate', 'International', 'donations'), ('International', 'donations', 'gratefully'), ('donations', 'gratefully', 'accepted'), ('gratefully', 'accepted', 'make'), ('accepted', 'make', 'statements'), ('make', 'statements', 'concerning'), ('statements', 'concerning', 'tax'), ('concerning', 'tax', 'treatment'), ('tax', 'treatment', 'donations'), ('treatment', 'donations', 'received'), ('donations', 'received', 'outside'), ('received', 'outside', 'United'), ('outside', 'United', 'States'), ('United', 'States', 'US'), ('States', 'US', 'laws'), ('US', 'laws', 'alone'), ('laws', 'alone', 'swamp'), ('alone', 'swamp', 'small'), ('swamp', 'small', 'staff'), ('small', 'staff', 'Please'), ('staff', 'Please', 'check'), ('Please', 'check', 'Project'), ('check', 'Project', 'Gutenberg'), ('Project', 'Gutenberg', 'Web'), ('Gutenberg', 'Web', 'pages'), ('Web', 'pages', 'current'), ('pages', 'current', 'donation'), ('current', 'donation', 'methods'), ('donation', 'methods', 'addresses'), ('methods', 'addresses', 'Donations'), ('addresses', 'Donations', 'accepted'), ('Donations', 'accepted', 'number'), ('accepted', 'number', 'ways'), ('number', 'ways', 'including'), ('ways', 'including', 'checks'), ('including', 'checks', 'online'), ('checks', 'online', 'payments'), ('online', 'payments', 'credit'), ('payments', 'credit', 'card'), ('credit', 'card', 'donations'), ('card', 'donations', 'donate'), ('donations', 'donate', 'please'), ('donate', 'please', 'visit'), ('please', 'visit', 'wwwgutenbergorgdonate'), ('visit', 'wwwgutenbergorgdonate', 'Section'), ('wwwgutenbergorgdonate', 'Section', '5'), ('Section', '5', 'General'), ('5', 'General', 'Information'), ('General', 'Information', 'Project'), ('Information', 'Project', 'Gutenbergtm'), ('Project', 'Gutenbergtm', 'electronic'), ('Gutenbergtm', 'electronic', 'works'), ('electronic', 'works', 'Professor'), ('works', 'Professor', 'Michael'), ('Professor', 'Michael', 'S'), ('Michael', 'S', 'Hart'), ('S', 'Hart', 'originator'), ('Hart', 'originator', 'Project'), ('originator', 'Project', 'Gutenbergtm'), ('Project', 'Gutenbergtm', 'concept'), ('Gutenbergtm', 'concept', 'library'), ('concept', 'library', 'electronic'), ('library', 'electronic', 'works'), ('electronic', 'works', 'could'), ('works', 'could', 'freely'), ('could', 'freely', 'shared'), ('freely', 'shared', 'anyone'), ('shared', 'anyone', 'forty'), ('anyone', 'forty', 'years'), ('forty', 'years', 'produced'), ('years', 'produced', 'distributed'), ('produced', 'distributed', 'Project'), ('distributed', 'Project', 'Gutenbergtm'), ('Project', 'Gutenbergtm', 'eBooks'), ('Gutenbergtm', 'eBooks', 'loose'), ('eBooks', 'loose', 'network'), ('loose', 'network', 'volunteer'), ('network', 'volunteer', 'support'), ('volunteer', 'support', 'Project'), ('support', 'Project', 'Gutenbergtm'), ('Project', 'Gutenbergtm', 'eBooks'), ('Gutenbergtm', 'eBooks', 'often'), ('eBooks', 'often', 'created'), ('often', 'created', 'several'), ('created', 'several', 'printed'), ('several', 'printed', 'editions'), ('printed', 'editions', 'confirmed'), ('editions', 'confirmed', 'protected'), ('confirmed', 'protected', 'copyright'), ('protected', 'copyright', 'US'), ('copyright', 'US', 'unless'), ('US', 'unless', 'copyright'), ('unless', 'copyright', 'notice'), ('copyright', 'notice', 'included'), ('notice', 'included', 'Thus'), ('included', 'Thus', 'necessarily'), ('Thus', 'necessarily', 'keep'), ('necessarily', 'keep', 'eBooks'), ('keep', 'eBooks', 'compliance'), ('eBooks', 'compliance', 'particular'), ('compliance', 'particular', 'paper'), ('particular', 'paper', 'edition'), ('paper', 'edition', 'people'), ('edition', 'people', 'start'), ('people', 'start', 'Web'), ('start', 'Web', 'site'), ('Web', 'site', 'main'), ('site', 'main', 'PG'), ('main', 'PG', 'search'), ('PG', 'search', 'facility'), ('search', 'facility', 'wwwgutenbergorg'), ('facility', 'wwwgutenbergorg', 'Web'), ('wwwgutenbergorg', 'Web', 'site'), ('Web', 'site', 'includes'), ('site', 'includes', 'information'), ('includes', 'information', 'Project'), ('information', 'Project', 'Gutenbergtm'), ('Project', 'Gutenbergtm', 'including'), ('Gutenbergtm', 'including', 'make'), ('including', 'make', 'donations'), ('make', 'donations', 'Project'), ('donations', 'Project', 'Gutenberg'), ('Project', 'Gutenberg', 'Literary'), ('Gutenberg', 'Literary', 'Archive'), ('Literary', 'Archive', 'Foundation'), ('Archive', 'Foundation', 'help'), ('Foundation', 'help', 'produce'), ('help', 'produce', 'new'), ('produce', 'new', 'eBooks'), ('new', 'eBooks', 'subscribe'), ('eBooks', 'subscribe', 'email'), ('subscribe', 'email', 'newsletter'), ('email', 'newsletter', 'hear'), ('newsletter', 'hear', 'new'), ('hear', 'new', 'eBooks')]\n",
            "201\n"
          ]
        }
      ]
    },
    {
      "cell_type": "markdown",
      "source": [
        "Counting every time a token is repeated. The total number of occurences of each trigram is counted. The minimum one is taken from the two sets of ngrams.\n",
        "Print the count."
      ],
      "metadata": {
        "id": "r0PIuTTj4Hm1"
      }
    },
    {
      "cell_type": "code",
      "source": [
        "count = 0\n",
        "for i in set(n_grams1):\n",
        "  count += min(n_grams1.count(i), n_grams2.count(i))\n",
        "print(count)"
      ],
      "metadata": {
        "colab": {
          "base_uri": "https://localhost:8080/"
        },
        "id": "fgtO1NmUQtpG",
        "outputId": "5ac4cd53-ce08-4254-b763-2095539e3127"
      },
      "execution_count": null,
      "outputs": [
        {
          "output_type": "stream",
          "name": "stdout",
          "text": [
            "192\n"
          ]
        }
      ]
    },
    {
      "cell_type": "markdown",
      "source": [
        "**Edit distance**\n",
        "1. Using the nltk library we find out the edit distance\n",
        "2. Read the contents of the files\n",
        "3. Tokenize the text\n",
        "4. Calculate the edit distance\n",
        "5. Print the edit distance"
      ],
      "metadata": {
        "id": "Iu4GgxKV4mMY"
      }
    },
    {
      "cell_type": "code",
      "source": [
        "newfile_path1 = \"/content/drive/MyDrive/NLP Assign/newfile1.txt\"\n",
        "newfile_path2 = \"/content/drive/MyDrive/NLP Assign/newfile2.txt\"\n",
        "\n",
        "with open(newfile_path1, \"r\") as file1:\n",
        "    contents1 = file1.read()\n",
        "\n",
        "with open(newfile_path2, \"r\") as file2:\n",
        "    contents2 = file2.read()\n",
        "\n",
        "tokens1 = nltk.word_tokenize(contents1)\n",
        "tokens2 = nltk.word_tokenize(contents2)\n",
        "\n",
        "edit_distance = nltk.edit_distance(tokens1, tokens2)\n",
        "\n",
        "print(\"The edit distance between the two files is:\", edit_distance)"
      ],
      "metadata": {
        "id": "IITkq8r4_yTc",
        "colab": {
          "base_uri": "https://localhost:8080/"
        },
        "outputId": "7db3cbf3-6f44-49fb-e3f9-0ec98234b29e"
      },
      "execution_count": null,
      "outputs": [
        {
          "output_type": "stream",
          "name": "stdout",
          "text": [
            "The edit distance between the two files is: 48\n"
          ]
        }
      ]
    },
    {
      "cell_type": "markdown",
      "source": [
        "**Finding the plagiarism percent**\n",
        "1. Finding the maximum from the two contents.\n",
        "2. Finding the minimum from the two ngrams.\n",
        "3. Metric to find out the plagiarism percent"
      ],
      "metadata": {
        "id": "PGEHjrqrFFHb"
      }
    },
    {
      "cell_type": "code",
      "source": [
        "max_length = max(len(contents1), len(contents2))\n",
        "min_length = min(len(n_grams1), len(n_grams2))\n",
        "Plagiarism = (((max_length - edit_distance)/max_length) + (count/min_length))/2\n",
        "Plagiarism_percent = Plagiarism*100\n",
        "print(\"Plagiarism percent is \" + str(Plagiarism_percent) + \"%\")"
      ],
      "metadata": {
        "id": "bwwmwuBGErLG",
        "colab": {
          "base_uri": "https://localhost:8080/"
        },
        "outputId": "589d755a-b620-4d60-8817-7576890f9a40"
      },
      "execution_count": null,
      "outputs": [
        {
          "output_type": "stream",
          "name": "stdout",
          "text": [
            "Plagiarism percent is 96.54044123229225%\n"
          ]
        }
      ]
    },
    {
      "cell_type": "markdown",
      "source": [
        "This code is a prototype of a plagiarism checker, using the basic concepts that was taught in class. Edit distance and ngrams were used.\n"
      ],
      "metadata": {
        "id": "tivyRT1uYWA3"
      }
    }
  ]
}